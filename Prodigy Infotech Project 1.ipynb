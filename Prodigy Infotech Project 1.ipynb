{
 "cells": [
  {
   "cell_type": "code",
   "execution_count": 70,
   "id": "6d884807",
   "metadata": {},
   "outputs": [],
   "source": [
    "import numpy as np\n",
    "import pandas as pd\n",
    "import matplotlib.pyplot as plt\n",
    "import seaborn as sns\n",
    "from warnings import filterwarnings\n",
    "filterwarnings('ignore')\n",
    "%matplotlib inline"
   ]
  },
  {
   "cell_type": "code",
   "execution_count": 71,
   "id": "6cc5f12e",
   "metadata": {},
   "outputs": [],
   "source": [
    "df_train=pd.read_csv('C:/Users/hp/desktop/prodigy/housing/train.csv')"
   ]
  },
  {
   "cell_type": "code",
   "execution_count": 72,
   "id": "943494f9",
   "metadata": {},
   "outputs": [
    {
     "data": {
      "text/html": [
       "<div>\n",
       "<style scoped>\n",
       "    .dataframe tbody tr th:only-of-type {\n",
       "        vertical-align: middle;\n",
       "    }\n",
       "\n",
       "    .dataframe tbody tr th {\n",
       "        vertical-align: top;\n",
       "    }\n",
       "\n",
       "    .dataframe thead th {\n",
       "        text-align: right;\n",
       "    }\n",
       "</style>\n",
       "<table border=\"1\" class=\"dataframe\">\n",
       "  <thead>\n",
       "    <tr style=\"text-align: right;\">\n",
       "      <th></th>\n",
       "      <th>Id</th>\n",
       "      <th>MSSubClass</th>\n",
       "      <th>MSZoning</th>\n",
       "      <th>LotFrontage</th>\n",
       "      <th>LotArea</th>\n",
       "      <th>Street</th>\n",
       "      <th>Alley</th>\n",
       "      <th>LotShape</th>\n",
       "      <th>LandContour</th>\n",
       "      <th>Utilities</th>\n",
       "      <th>...</th>\n",
       "      <th>PoolArea</th>\n",
       "      <th>PoolQC</th>\n",
       "      <th>Fence</th>\n",
       "      <th>MiscFeature</th>\n",
       "      <th>MiscVal</th>\n",
       "      <th>MoSold</th>\n",
       "      <th>YrSold</th>\n",
       "      <th>SaleType</th>\n",
       "      <th>SaleCondition</th>\n",
       "      <th>SalePrice</th>\n",
       "    </tr>\n",
       "  </thead>\n",
       "  <tbody>\n",
       "    <tr>\n",
       "      <th>0</th>\n",
       "      <td>1</td>\n",
       "      <td>60</td>\n",
       "      <td>RL</td>\n",
       "      <td>65.0</td>\n",
       "      <td>8450</td>\n",
       "      <td>Pave</td>\n",
       "      <td>NaN</td>\n",
       "      <td>Reg</td>\n",
       "      <td>Lvl</td>\n",
       "      <td>AllPub</td>\n",
       "      <td>...</td>\n",
       "      <td>0</td>\n",
       "      <td>NaN</td>\n",
       "      <td>NaN</td>\n",
       "      <td>NaN</td>\n",
       "      <td>0</td>\n",
       "      <td>2</td>\n",
       "      <td>2008</td>\n",
       "      <td>WD</td>\n",
       "      <td>Normal</td>\n",
       "      <td>208500</td>\n",
       "    </tr>\n",
       "    <tr>\n",
       "      <th>1</th>\n",
       "      <td>2</td>\n",
       "      <td>20</td>\n",
       "      <td>RL</td>\n",
       "      <td>80.0</td>\n",
       "      <td>9600</td>\n",
       "      <td>Pave</td>\n",
       "      <td>NaN</td>\n",
       "      <td>Reg</td>\n",
       "      <td>Lvl</td>\n",
       "      <td>AllPub</td>\n",
       "      <td>...</td>\n",
       "      <td>0</td>\n",
       "      <td>NaN</td>\n",
       "      <td>NaN</td>\n",
       "      <td>NaN</td>\n",
       "      <td>0</td>\n",
       "      <td>5</td>\n",
       "      <td>2007</td>\n",
       "      <td>WD</td>\n",
       "      <td>Normal</td>\n",
       "      <td>181500</td>\n",
       "    </tr>\n",
       "    <tr>\n",
       "      <th>2</th>\n",
       "      <td>3</td>\n",
       "      <td>60</td>\n",
       "      <td>RL</td>\n",
       "      <td>68.0</td>\n",
       "      <td>11250</td>\n",
       "      <td>Pave</td>\n",
       "      <td>NaN</td>\n",
       "      <td>IR1</td>\n",
       "      <td>Lvl</td>\n",
       "      <td>AllPub</td>\n",
       "      <td>...</td>\n",
       "      <td>0</td>\n",
       "      <td>NaN</td>\n",
       "      <td>NaN</td>\n",
       "      <td>NaN</td>\n",
       "      <td>0</td>\n",
       "      <td>9</td>\n",
       "      <td>2008</td>\n",
       "      <td>WD</td>\n",
       "      <td>Normal</td>\n",
       "      <td>223500</td>\n",
       "    </tr>\n",
       "    <tr>\n",
       "      <th>3</th>\n",
       "      <td>4</td>\n",
       "      <td>70</td>\n",
       "      <td>RL</td>\n",
       "      <td>60.0</td>\n",
       "      <td>9550</td>\n",
       "      <td>Pave</td>\n",
       "      <td>NaN</td>\n",
       "      <td>IR1</td>\n",
       "      <td>Lvl</td>\n",
       "      <td>AllPub</td>\n",
       "      <td>...</td>\n",
       "      <td>0</td>\n",
       "      <td>NaN</td>\n",
       "      <td>NaN</td>\n",
       "      <td>NaN</td>\n",
       "      <td>0</td>\n",
       "      <td>2</td>\n",
       "      <td>2006</td>\n",
       "      <td>WD</td>\n",
       "      <td>Abnorml</td>\n",
       "      <td>140000</td>\n",
       "    </tr>\n",
       "    <tr>\n",
       "      <th>4</th>\n",
       "      <td>5</td>\n",
       "      <td>60</td>\n",
       "      <td>RL</td>\n",
       "      <td>84.0</td>\n",
       "      <td>14260</td>\n",
       "      <td>Pave</td>\n",
       "      <td>NaN</td>\n",
       "      <td>IR1</td>\n",
       "      <td>Lvl</td>\n",
       "      <td>AllPub</td>\n",
       "      <td>...</td>\n",
       "      <td>0</td>\n",
       "      <td>NaN</td>\n",
       "      <td>NaN</td>\n",
       "      <td>NaN</td>\n",
       "      <td>0</td>\n",
       "      <td>12</td>\n",
       "      <td>2008</td>\n",
       "      <td>WD</td>\n",
       "      <td>Normal</td>\n",
       "      <td>250000</td>\n",
       "    </tr>\n",
       "    <tr>\n",
       "      <th>...</th>\n",
       "      <td>...</td>\n",
       "      <td>...</td>\n",
       "      <td>...</td>\n",
       "      <td>...</td>\n",
       "      <td>...</td>\n",
       "      <td>...</td>\n",
       "      <td>...</td>\n",
       "      <td>...</td>\n",
       "      <td>...</td>\n",
       "      <td>...</td>\n",
       "      <td>...</td>\n",
       "      <td>...</td>\n",
       "      <td>...</td>\n",
       "      <td>...</td>\n",
       "      <td>...</td>\n",
       "      <td>...</td>\n",
       "      <td>...</td>\n",
       "      <td>...</td>\n",
       "      <td>...</td>\n",
       "      <td>...</td>\n",
       "      <td>...</td>\n",
       "    </tr>\n",
       "    <tr>\n",
       "      <th>1455</th>\n",
       "      <td>1456</td>\n",
       "      <td>60</td>\n",
       "      <td>RL</td>\n",
       "      <td>62.0</td>\n",
       "      <td>7917</td>\n",
       "      <td>Pave</td>\n",
       "      <td>NaN</td>\n",
       "      <td>Reg</td>\n",
       "      <td>Lvl</td>\n",
       "      <td>AllPub</td>\n",
       "      <td>...</td>\n",
       "      <td>0</td>\n",
       "      <td>NaN</td>\n",
       "      <td>NaN</td>\n",
       "      <td>NaN</td>\n",
       "      <td>0</td>\n",
       "      <td>8</td>\n",
       "      <td>2007</td>\n",
       "      <td>WD</td>\n",
       "      <td>Normal</td>\n",
       "      <td>175000</td>\n",
       "    </tr>\n",
       "    <tr>\n",
       "      <th>1456</th>\n",
       "      <td>1457</td>\n",
       "      <td>20</td>\n",
       "      <td>RL</td>\n",
       "      <td>85.0</td>\n",
       "      <td>13175</td>\n",
       "      <td>Pave</td>\n",
       "      <td>NaN</td>\n",
       "      <td>Reg</td>\n",
       "      <td>Lvl</td>\n",
       "      <td>AllPub</td>\n",
       "      <td>...</td>\n",
       "      <td>0</td>\n",
       "      <td>NaN</td>\n",
       "      <td>MnPrv</td>\n",
       "      <td>NaN</td>\n",
       "      <td>0</td>\n",
       "      <td>2</td>\n",
       "      <td>2010</td>\n",
       "      <td>WD</td>\n",
       "      <td>Normal</td>\n",
       "      <td>210000</td>\n",
       "    </tr>\n",
       "    <tr>\n",
       "      <th>1457</th>\n",
       "      <td>1458</td>\n",
       "      <td>70</td>\n",
       "      <td>RL</td>\n",
       "      <td>66.0</td>\n",
       "      <td>9042</td>\n",
       "      <td>Pave</td>\n",
       "      <td>NaN</td>\n",
       "      <td>Reg</td>\n",
       "      <td>Lvl</td>\n",
       "      <td>AllPub</td>\n",
       "      <td>...</td>\n",
       "      <td>0</td>\n",
       "      <td>NaN</td>\n",
       "      <td>GdPrv</td>\n",
       "      <td>Shed</td>\n",
       "      <td>2500</td>\n",
       "      <td>5</td>\n",
       "      <td>2010</td>\n",
       "      <td>WD</td>\n",
       "      <td>Normal</td>\n",
       "      <td>266500</td>\n",
       "    </tr>\n",
       "    <tr>\n",
       "      <th>1458</th>\n",
       "      <td>1459</td>\n",
       "      <td>20</td>\n",
       "      <td>RL</td>\n",
       "      <td>68.0</td>\n",
       "      <td>9717</td>\n",
       "      <td>Pave</td>\n",
       "      <td>NaN</td>\n",
       "      <td>Reg</td>\n",
       "      <td>Lvl</td>\n",
       "      <td>AllPub</td>\n",
       "      <td>...</td>\n",
       "      <td>0</td>\n",
       "      <td>NaN</td>\n",
       "      <td>NaN</td>\n",
       "      <td>NaN</td>\n",
       "      <td>0</td>\n",
       "      <td>4</td>\n",
       "      <td>2010</td>\n",
       "      <td>WD</td>\n",
       "      <td>Normal</td>\n",
       "      <td>142125</td>\n",
       "    </tr>\n",
       "    <tr>\n",
       "      <th>1459</th>\n",
       "      <td>1460</td>\n",
       "      <td>20</td>\n",
       "      <td>RL</td>\n",
       "      <td>75.0</td>\n",
       "      <td>9937</td>\n",
       "      <td>Pave</td>\n",
       "      <td>NaN</td>\n",
       "      <td>Reg</td>\n",
       "      <td>Lvl</td>\n",
       "      <td>AllPub</td>\n",
       "      <td>...</td>\n",
       "      <td>0</td>\n",
       "      <td>NaN</td>\n",
       "      <td>NaN</td>\n",
       "      <td>NaN</td>\n",
       "      <td>0</td>\n",
       "      <td>6</td>\n",
       "      <td>2008</td>\n",
       "      <td>WD</td>\n",
       "      <td>Normal</td>\n",
       "      <td>147500</td>\n",
       "    </tr>\n",
       "  </tbody>\n",
       "</table>\n",
       "<p>1460 rows × 81 columns</p>\n",
       "</div>"
      ],
      "text/plain": [
       "        Id  MSSubClass MSZoning  LotFrontage  LotArea Street Alley LotShape  \\\n",
       "0        1          60       RL         65.0     8450   Pave   NaN      Reg   \n",
       "1        2          20       RL         80.0     9600   Pave   NaN      Reg   \n",
       "2        3          60       RL         68.0    11250   Pave   NaN      IR1   \n",
       "3        4          70       RL         60.0     9550   Pave   NaN      IR1   \n",
       "4        5          60       RL         84.0    14260   Pave   NaN      IR1   \n",
       "...    ...         ...      ...          ...      ...    ...   ...      ...   \n",
       "1455  1456          60       RL         62.0     7917   Pave   NaN      Reg   \n",
       "1456  1457          20       RL         85.0    13175   Pave   NaN      Reg   \n",
       "1457  1458          70       RL         66.0     9042   Pave   NaN      Reg   \n",
       "1458  1459          20       RL         68.0     9717   Pave   NaN      Reg   \n",
       "1459  1460          20       RL         75.0     9937   Pave   NaN      Reg   \n",
       "\n",
       "     LandContour Utilities  ... PoolArea PoolQC  Fence MiscFeature MiscVal  \\\n",
       "0            Lvl    AllPub  ...        0    NaN    NaN         NaN       0   \n",
       "1            Lvl    AllPub  ...        0    NaN    NaN         NaN       0   \n",
       "2            Lvl    AllPub  ...        0    NaN    NaN         NaN       0   \n",
       "3            Lvl    AllPub  ...        0    NaN    NaN         NaN       0   \n",
       "4            Lvl    AllPub  ...        0    NaN    NaN         NaN       0   \n",
       "...          ...       ...  ...      ...    ...    ...         ...     ...   \n",
       "1455         Lvl    AllPub  ...        0    NaN    NaN         NaN       0   \n",
       "1456         Lvl    AllPub  ...        0    NaN  MnPrv         NaN       0   \n",
       "1457         Lvl    AllPub  ...        0    NaN  GdPrv        Shed    2500   \n",
       "1458         Lvl    AllPub  ...        0    NaN    NaN         NaN       0   \n",
       "1459         Lvl    AllPub  ...        0    NaN    NaN         NaN       0   \n",
       "\n",
       "     MoSold YrSold  SaleType  SaleCondition  SalePrice  \n",
       "0         2   2008        WD         Normal     208500  \n",
       "1         5   2007        WD         Normal     181500  \n",
       "2         9   2008        WD         Normal     223500  \n",
       "3         2   2006        WD        Abnorml     140000  \n",
       "4        12   2008        WD         Normal     250000  \n",
       "...     ...    ...       ...            ...        ...  \n",
       "1455      8   2007        WD         Normal     175000  \n",
       "1456      2   2010        WD         Normal     210000  \n",
       "1457      5   2010        WD         Normal     266500  \n",
       "1458      4   2010        WD         Normal     142125  \n",
       "1459      6   2008        WD         Normal     147500  \n",
       "\n",
       "[1460 rows x 81 columns]"
      ]
     },
     "execution_count": 72,
     "metadata": {},
     "output_type": "execute_result"
    }
   ],
   "source": [
    "df_train"
   ]
  },
  {
   "cell_type": "code",
   "execution_count": 73,
   "id": "1fab0a27",
   "metadata": {},
   "outputs": [
    {
     "data": {
      "text/plain": [
       "(1460, 81)"
      ]
     },
     "execution_count": 73,
     "metadata": {},
     "output_type": "execute_result"
    }
   ],
   "source": [
    "df_train.shape"
   ]
  },
  {
   "cell_type": "code",
   "execution_count": 74,
   "id": "a3ec2ea1",
   "metadata": {},
   "outputs": [
    {
     "name": "stdout",
     "output_type": "stream",
     "text": [
      "<class 'pandas.core.frame.DataFrame'>\n",
      "RangeIndex: 1460 entries, 0 to 1459\n",
      "Data columns (total 81 columns):\n",
      " #   Column         Non-Null Count  Dtype  \n",
      "---  ------         --------------  -----  \n",
      " 0   Id             1460 non-null   int64  \n",
      " 1   MSSubClass     1460 non-null   int64  \n",
      " 2   MSZoning       1460 non-null   object \n",
      " 3   LotFrontage    1201 non-null   float64\n",
      " 4   LotArea        1460 non-null   int64  \n",
      " 5   Street         1460 non-null   object \n",
      " 6   Alley          91 non-null     object \n",
      " 7   LotShape       1460 non-null   object \n",
      " 8   LandContour    1460 non-null   object \n",
      " 9   Utilities      1460 non-null   object \n",
      " 10  LotConfig      1460 non-null   object \n",
      " 11  LandSlope      1460 non-null   object \n",
      " 12  Neighborhood   1460 non-null   object \n",
      " 13  Condition1     1460 non-null   object \n",
      " 14  Condition2     1460 non-null   object \n",
      " 15  BldgType       1460 non-null   object \n",
      " 16  HouseStyle     1460 non-null   object \n",
      " 17  OverallQual    1460 non-null   int64  \n",
      " 18  OverallCond    1460 non-null   int64  \n",
      " 19  YearBuilt      1460 non-null   int64  \n",
      " 20  YearRemodAdd   1460 non-null   int64  \n",
      " 21  RoofStyle      1460 non-null   object \n",
      " 22  RoofMatl       1460 non-null   object \n",
      " 23  Exterior1st    1460 non-null   object \n",
      " 24  Exterior2nd    1460 non-null   object \n",
      " 25  MasVnrType     1452 non-null   object \n",
      " 26  MasVnrArea     1452 non-null   float64\n",
      " 27  ExterQual      1460 non-null   object \n",
      " 28  ExterCond      1460 non-null   object \n",
      " 29  Foundation     1460 non-null   object \n",
      " 30  BsmtQual       1423 non-null   object \n",
      " 31  BsmtCond       1423 non-null   object \n",
      " 32  BsmtExposure   1422 non-null   object \n",
      " 33  BsmtFinType1   1423 non-null   object \n",
      " 34  BsmtFinSF1     1460 non-null   int64  \n",
      " 35  BsmtFinType2   1422 non-null   object \n",
      " 36  BsmtFinSF2     1460 non-null   int64  \n",
      " 37  BsmtUnfSF      1460 non-null   int64  \n",
      " 38  TotalBsmtSF    1460 non-null   int64  \n",
      " 39  Heating        1460 non-null   object \n",
      " 40  HeatingQC      1460 non-null   object \n",
      " 41  CentralAir     1460 non-null   object \n",
      " 42  Electrical     1459 non-null   object \n",
      " 43  1stFlrSF       1460 non-null   int64  \n",
      " 44  2ndFlrSF       1460 non-null   int64  \n",
      " 45  LowQualFinSF   1460 non-null   int64  \n",
      " 46  GrLivArea      1460 non-null   int64  \n",
      " 47  BsmtFullBath   1460 non-null   int64  \n",
      " 48  BsmtHalfBath   1460 non-null   int64  \n",
      " 49  FullBath       1460 non-null   int64  \n",
      " 50  HalfBath       1460 non-null   int64  \n",
      " 51  BedroomAbvGr   1460 non-null   int64  \n",
      " 52  KitchenAbvGr   1460 non-null   int64  \n",
      " 53  KitchenQual    1460 non-null   object \n",
      " 54  TotRmsAbvGrd   1460 non-null   int64  \n",
      " 55  Functional     1460 non-null   object \n",
      " 56  Fireplaces     1460 non-null   int64  \n",
      " 57  FireplaceQu    770 non-null    object \n",
      " 58  GarageType     1379 non-null   object \n",
      " 59  GarageYrBlt    1379 non-null   float64\n",
      " 60  GarageFinish   1379 non-null   object \n",
      " 61  GarageCars     1460 non-null   int64  \n",
      " 62  GarageArea     1460 non-null   int64  \n",
      " 63  GarageQual     1379 non-null   object \n",
      " 64  GarageCond     1379 non-null   object \n",
      " 65  PavedDrive     1460 non-null   object \n",
      " 66  WoodDeckSF     1460 non-null   int64  \n",
      " 67  OpenPorchSF    1460 non-null   int64  \n",
      " 68  EnclosedPorch  1460 non-null   int64  \n",
      " 69  3SsnPorch      1460 non-null   int64  \n",
      " 70  ScreenPorch    1460 non-null   int64  \n",
      " 71  PoolArea       1460 non-null   int64  \n",
      " 72  PoolQC         7 non-null      object \n",
      " 73  Fence          281 non-null    object \n",
      " 74  MiscFeature    54 non-null     object \n",
      " 75  MiscVal        1460 non-null   int64  \n",
      " 76  MoSold         1460 non-null   int64  \n",
      " 77  YrSold         1460 non-null   int64  \n",
      " 78  SaleType       1460 non-null   object \n",
      " 79  SaleCondition  1460 non-null   object \n",
      " 80  SalePrice      1460 non-null   int64  \n",
      "dtypes: float64(3), int64(35), object(43)\n",
      "memory usage: 924.0+ KB\n"
     ]
    }
   ],
   "source": [
    "df_train.info()"
   ]
  },
  {
   "cell_type": "code",
   "execution_count": 75,
   "id": "5a450213",
   "metadata": {},
   "outputs": [
    {
     "data": {
      "text/plain": [
       "0"
      ]
     },
     "execution_count": 75,
     "metadata": {},
     "output_type": "execute_result"
    }
   ],
   "source": [
    "df_train.duplicated().sum()"
   ]
  },
  {
   "cell_type": "code",
   "execution_count": 76,
   "id": "d116a44e",
   "metadata": {
    "scrolled": true
   },
   "outputs": [
    {
     "data": {
      "text/plain": [
       "PoolQC         0.995205\n",
       "MiscFeature    0.963014\n",
       "Alley          0.937671\n",
       "Fence          0.807534\n",
       "FireplaceQu    0.472603\n",
       "                 ...   \n",
       "ExterQual      0.000000\n",
       "Exterior2nd    0.000000\n",
       "Exterior1st    0.000000\n",
       "RoofMatl       0.000000\n",
       "SalePrice      0.000000\n",
       "Length: 81, dtype: float64"
      ]
     },
     "execution_count": 76,
     "metadata": {},
     "output_type": "execute_result"
    }
   ],
   "source": [
    "df_train.isnull().sum().sort_values(ascending=False)/df_train.index.size\n",
    "# Company_sub1.isnull().sum().sort_values(ascending = False)/Company_sub1.index.size.head(10)"
   ]
  },
  {
   "cell_type": "code",
   "execution_count": 77,
   "id": "58a58720",
   "metadata": {},
   "outputs": [],
   "source": [
    "num_col=df_train.select_dtypes(exclude='object')\n",
    "cat_col=df_train.select_dtypes(include='object')"
   ]
  },
  {
   "cell_type": "code",
   "execution_count": 78,
   "id": "2750d10a",
   "metadata": {},
   "outputs": [
    {
     "data": {
      "text/plain": [
       "LotFrontage      0.177397\n",
       "GarageYrBlt      0.055479\n",
       "MasVnrArea       0.005479\n",
       "Id               0.000000\n",
       "OpenPorchSF      0.000000\n",
       "KitchenAbvGr     0.000000\n",
       "TotRmsAbvGrd     0.000000\n",
       "Fireplaces       0.000000\n",
       "GarageCars       0.000000\n",
       "GarageArea       0.000000\n",
       "WoodDeckSF       0.000000\n",
       "EnclosedPorch    0.000000\n",
       "HalfBath         0.000000\n",
       "3SsnPorch        0.000000\n",
       "ScreenPorch      0.000000\n",
       "PoolArea         0.000000\n",
       "MiscVal          0.000000\n",
       "MoSold           0.000000\n",
       "YrSold           0.000000\n",
       "BedroomAbvGr     0.000000\n",
       "FullBath         0.000000\n",
       "MSSubClass       0.000000\n",
       "BsmtFinSF2       0.000000\n",
       "LotArea          0.000000\n",
       "OverallQual      0.000000\n",
       "OverallCond      0.000000\n",
       "YearBuilt        0.000000\n",
       "YearRemodAdd     0.000000\n",
       "BsmtFinSF1       0.000000\n",
       "BsmtUnfSF        0.000000\n",
       "BsmtHalfBath     0.000000\n",
       "TotalBsmtSF      0.000000\n",
       "1stFlrSF         0.000000\n",
       "2ndFlrSF         0.000000\n",
       "LowQualFinSF     0.000000\n",
       "GrLivArea        0.000000\n",
       "BsmtFullBath     0.000000\n",
       "SalePrice        0.000000\n",
       "dtype: float64"
      ]
     },
     "execution_count": 78,
     "metadata": {},
     "output_type": "execute_result"
    }
   ],
   "source": [
    "num_col.isnull().sum().sort_values(ascending=False)/num_col.index.size\n",
    "#Company_sub1.isnull().sum().sort_values(ascending = False)/Company_sub1.index.size"
   ]
  },
  {
   "cell_type": "code",
   "execution_count": 79,
   "id": "2f7ecc64",
   "metadata": {},
   "outputs": [
    {
     "data": {
      "text/plain": [
       "count    1201.000000\n",
       "mean       70.049958\n",
       "std        24.284752\n",
       "min        21.000000\n",
       "25%        59.000000\n",
       "50%        69.000000\n",
       "75%        80.000000\n",
       "max       313.000000\n",
       "Name: LotFrontage, dtype: float64"
      ]
     },
     "execution_count": 79,
     "metadata": {},
     "output_type": "execute_result"
    }
   ],
   "source": [
    "num_col.LotFrontage.describe()"
   ]
  },
  {
   "cell_type": "code",
   "execution_count": 80,
   "id": "ecfb09c0",
   "metadata": {},
   "outputs": [],
   "source": [
    "num_col.LotFrontage=num_col.LotFrontage.fillna(num_col.LotFrontage.median())"
   ]
  },
  {
   "cell_type": "code",
   "execution_count": 81,
   "id": "46e699be",
   "metadata": {},
   "outputs": [
    {
     "data": {
      "text/plain": [
       "0"
      ]
     },
     "execution_count": 81,
     "metadata": {},
     "output_type": "execute_result"
    }
   ],
   "source": [
    "num_col.LotFrontage.isnull().sum()"
   ]
  },
  {
   "cell_type": "code",
   "execution_count": 82,
   "id": "9e5497fd",
   "metadata": {},
   "outputs": [],
   "source": [
    "num_col.GarageYrBlt=num_col.GarageYrBlt.fillna(num_col.GarageYrBlt.median())"
   ]
  },
  {
   "cell_type": "code",
   "execution_count": 83,
   "id": "54d01629",
   "metadata": {},
   "outputs": [
    {
     "data": {
      "text/plain": [
       "0"
      ]
     },
     "execution_count": 83,
     "metadata": {},
     "output_type": "execute_result"
    }
   ],
   "source": [
    "num_col.GarageYrBlt.isnull().sum()"
   ]
  },
  {
   "cell_type": "code",
   "execution_count": 84,
   "id": "904cb959",
   "metadata": {},
   "outputs": [],
   "source": [
    "num_col.MasVnrArea=num_col.MasVnrArea.fillna(num_col.MasVnrArea.median())"
   ]
  },
  {
   "cell_type": "code",
   "execution_count": 85,
   "id": "be4793e3",
   "metadata": {},
   "outputs": [
    {
     "data": {
      "text/plain": [
       "Id               0.0\n",
       "WoodDeckSF       0.0\n",
       "BedroomAbvGr     0.0\n",
       "KitchenAbvGr     0.0\n",
       "TotRmsAbvGrd     0.0\n",
       "Fireplaces       0.0\n",
       "GarageYrBlt      0.0\n",
       "GarageCars       0.0\n",
       "GarageArea       0.0\n",
       "OpenPorchSF      0.0\n",
       "MSSubClass       0.0\n",
       "EnclosedPorch    0.0\n",
       "3SsnPorch        0.0\n",
       "ScreenPorch      0.0\n",
       "PoolArea         0.0\n",
       "MiscVal          0.0\n",
       "MoSold           0.0\n",
       "YrSold           0.0\n",
       "HalfBath         0.0\n",
       "FullBath         0.0\n",
       "BsmtHalfBath     0.0\n",
       "BsmtFullBath     0.0\n",
       "LotFrontage      0.0\n",
       "LotArea          0.0\n",
       "OverallQual      0.0\n",
       "OverallCond      0.0\n",
       "YearBuilt        0.0\n",
       "YearRemodAdd     0.0\n",
       "MasVnrArea       0.0\n",
       "BsmtFinSF1       0.0\n",
       "BsmtFinSF2       0.0\n",
       "BsmtUnfSF        0.0\n",
       "TotalBsmtSF      0.0\n",
       "1stFlrSF         0.0\n",
       "2ndFlrSF         0.0\n",
       "LowQualFinSF     0.0\n",
       "GrLivArea        0.0\n",
       "SalePrice        0.0\n",
       "dtype: float64"
      ]
     },
     "execution_count": 85,
     "metadata": {},
     "output_type": "execute_result"
    }
   ],
   "source": [
    "num_col.isnull().sum().sort_values(ascending=False)/num_col.index.size"
   ]
  },
  {
   "cell_type": "code",
   "execution_count": 86,
   "id": "6434b7c5",
   "metadata": {
    "scrolled": true
   },
   "outputs": [
    {
     "data": {
      "text/plain": [
       "Index(['Id', 'MSSubClass', 'LotFrontage', 'LotArea', 'OverallQual',\n",
       "       'OverallCond', 'YearBuilt', 'YearRemodAdd', 'MasVnrArea', 'BsmtFinSF1',\n",
       "       'BsmtFinSF2', 'BsmtUnfSF', 'TotalBsmtSF', '1stFlrSF', '2ndFlrSF',\n",
       "       'LowQualFinSF', 'GrLivArea', 'BsmtFullBath', 'BsmtHalfBath', 'FullBath',\n",
       "       'HalfBath', 'BedroomAbvGr', 'KitchenAbvGr', 'TotRmsAbvGrd',\n",
       "       'Fireplaces', 'GarageYrBlt', 'GarageCars', 'GarageArea', 'WoodDeckSF',\n",
       "       'OpenPorchSF', 'EnclosedPorch', '3SsnPorch', 'ScreenPorch', 'PoolArea',\n",
       "       'MiscVal', 'MoSold', 'YrSold', 'SalePrice'],\n",
       "      dtype='object')"
      ]
     },
     "execution_count": 86,
     "metadata": {},
     "output_type": "execute_result"
    }
   ],
   "source": [
    "num_col.columns"
   ]
  },
  {
   "cell_type": "code",
   "execution_count": 87,
   "id": "b4b5e0ac",
   "metadata": {},
   "outputs": [
    {
     "data": {
      "text/plain": [
       "PoolQC           0.995205\n",
       "MiscFeature      0.963014\n",
       "Alley            0.937671\n",
       "Fence            0.807534\n",
       "FireplaceQu      0.472603\n",
       "GarageType       0.055479\n",
       "GarageCond       0.055479\n",
       "GarageQual       0.055479\n",
       "GarageFinish     0.055479\n",
       "BsmtFinType2     0.026027\n",
       "BsmtExposure     0.026027\n",
       "BsmtFinType1     0.025342\n",
       "BsmtQual         0.025342\n",
       "BsmtCond         0.025342\n",
       "MasVnrType       0.005479\n",
       "Electrical       0.000685\n",
       "Functional       0.000000\n",
       "KitchenQual      0.000000\n",
       "CentralAir       0.000000\n",
       "HeatingQC        0.000000\n",
       "Heating          0.000000\n",
       "PavedDrive       0.000000\n",
       "SaleType         0.000000\n",
       "MSZoning         0.000000\n",
       "Street           0.000000\n",
       "Condition2       0.000000\n",
       "LotShape         0.000000\n",
       "LandContour      0.000000\n",
       "Utilities        0.000000\n",
       "LotConfig        0.000000\n",
       "LandSlope        0.000000\n",
       "Neighborhood     0.000000\n",
       "Condition1       0.000000\n",
       "BldgType         0.000000\n",
       "Foundation       0.000000\n",
       "HouseStyle       0.000000\n",
       "RoofStyle        0.000000\n",
       "RoofMatl         0.000000\n",
       "Exterior1st      0.000000\n",
       "Exterior2nd      0.000000\n",
       "ExterQual        0.000000\n",
       "ExterCond        0.000000\n",
       "SaleCondition    0.000000\n",
       "dtype: float64"
      ]
     },
     "execution_count": 87,
     "metadata": {},
     "output_type": "execute_result"
    }
   ],
   "source": [
    "cat_col.isnull().sum().sort_values(ascending=False)/cat_col.index.size"
   ]
  },
  {
   "cell_type": "code",
   "execution_count": 88,
   "id": "48bf3ddc",
   "metadata": {},
   "outputs": [],
   "source": [
    "# Dropping columns with more than 30% missing values"
   ]
  },
  {
   "cell_type": "code",
   "execution_count": 89,
   "id": "e7501909",
   "metadata": {},
   "outputs": [],
   "source": [
    "cat_col=cat_col.drop(['PoolQC','MiscFeature','Alley','Fence','FireplaceQu'],axis=1)"
   ]
  },
  {
   "cell_type": "code",
   "execution_count": 163,
   "id": "3f67324f",
   "metadata": {},
   "outputs": [
    {
     "data": {
      "text/plain": [
       "(1460, 38)"
      ]
     },
     "execution_count": 163,
     "metadata": {},
     "output_type": "execute_result"
    }
   ],
   "source": [
    "cat_col.shape"
   ]
  },
  {
   "cell_type": "code",
   "execution_count": 90,
   "id": "45b9f3c0",
   "metadata": {},
   "outputs": [
    {
     "data": {
      "text/plain": [
       "GarageCond       0.055479\n",
       "GarageQual       0.055479\n",
       "GarageFinish     0.055479\n",
       "GarageType       0.055479\n",
       "BsmtExposure     0.026027\n",
       "BsmtFinType2     0.026027\n",
       "BsmtCond         0.025342\n",
       "BsmtFinType1     0.025342\n",
       "BsmtQual         0.025342\n",
       "MasVnrType       0.005479\n",
       "Electrical       0.000685\n",
       "Heating          0.000000\n",
       "MSZoning         0.000000\n",
       "HeatingQC        0.000000\n",
       "CentralAir       0.000000\n",
       "Functional       0.000000\n",
       "PavedDrive       0.000000\n",
       "SaleType         0.000000\n",
       "KitchenQual      0.000000\n",
       "Foundation       0.000000\n",
       "Street           0.000000\n",
       "ExterCond        0.000000\n",
       "LotShape         0.000000\n",
       "LandContour      0.000000\n",
       "Utilities        0.000000\n",
       "LotConfig        0.000000\n",
       "LandSlope        0.000000\n",
       "Neighborhood     0.000000\n",
       "Condition1       0.000000\n",
       "Condition2       0.000000\n",
       "BldgType         0.000000\n",
       "HouseStyle       0.000000\n",
       "RoofStyle        0.000000\n",
       "RoofMatl         0.000000\n",
       "Exterior1st      0.000000\n",
       "Exterior2nd      0.000000\n",
       "ExterQual        0.000000\n",
       "SaleCondition    0.000000\n",
       "dtype: float64"
      ]
     },
     "execution_count": 90,
     "metadata": {},
     "output_type": "execute_result"
    }
   ],
   "source": [
    "cat_col.isnull().sum().sort_values(ascending=False)/cat_col.index.size"
   ]
  },
  {
   "cell_type": "code",
   "execution_count": 91,
   "id": "70da0abb",
   "metadata": {},
   "outputs": [
    {
     "name": "stdout",
     "output_type": "stream",
     "text": [
      "MSZONING 5\n",
      "['RL' 'RM' 'C (all)' 'FV' 'RH']\n",
      "RL         1151\n",
      "RM          218\n",
      "FV           65\n",
      "RH           16\n",
      "C (all)      10\n",
      "Name: MSZoning, dtype: int64\n",
      "\n",
      "STREET 2\n",
      "['Pave' 'Grvl']\n",
      "Pave    1454\n",
      "Grvl       6\n",
      "Name: Street, dtype: int64\n",
      "\n",
      "LOTSHAPE 4\n",
      "['Reg' 'IR1' 'IR2' 'IR3']\n",
      "Reg    925\n",
      "IR1    484\n",
      "IR2     41\n",
      "IR3     10\n",
      "Name: LotShape, dtype: int64\n",
      "\n",
      "LANDCONTOUR 4\n",
      "['Lvl' 'Bnk' 'Low' 'HLS']\n",
      "Lvl    1311\n",
      "Bnk      63\n",
      "HLS      50\n",
      "Low      36\n",
      "Name: LandContour, dtype: int64\n",
      "\n",
      "UTILITIES 2\n",
      "['AllPub' 'NoSeWa']\n",
      "AllPub    1459\n",
      "NoSeWa       1\n",
      "Name: Utilities, dtype: int64\n",
      "\n",
      "LOTCONFIG 5\n",
      "['Inside' 'FR2' 'Corner' 'CulDSac' 'FR3']\n",
      "Inside     1052\n",
      "Corner      263\n",
      "CulDSac      94\n",
      "FR2          47\n",
      "FR3           4\n",
      "Name: LotConfig, dtype: int64\n",
      "\n",
      "LANDSLOPE 3\n",
      "['Gtl' 'Mod' 'Sev']\n",
      "Gtl    1382\n",
      "Mod      65\n",
      "Sev      13\n",
      "Name: LandSlope, dtype: int64\n",
      "\n",
      "NEIGHBORHOOD 25\n",
      "['CollgCr' 'Veenker' 'Crawfor' 'NoRidge' 'Mitchel' 'Somerst' 'NWAmes'\n",
      " 'OldTown' 'BrkSide' 'Sawyer' 'NridgHt' 'NAmes' 'SawyerW' 'IDOTRR'\n",
      " 'MeadowV' 'Edwards' 'Timber' 'Gilbert' 'StoneBr' 'ClearCr' 'NPkVill'\n",
      " 'Blmngtn' 'BrDale' 'SWISU' 'Blueste']\n",
      "NAmes      225\n",
      "CollgCr    150\n",
      "OldTown    113\n",
      "Edwards    100\n",
      "Somerst     86\n",
      "Gilbert     79\n",
      "NridgHt     77\n",
      "Sawyer      74\n",
      "NWAmes      73\n",
      "SawyerW     59\n",
      "BrkSide     58\n",
      "Crawfor     51\n",
      "Mitchel     49\n",
      "NoRidge     41\n",
      "Timber      38\n",
      "IDOTRR      37\n",
      "ClearCr     28\n",
      "StoneBr     25\n",
      "SWISU       25\n",
      "MeadowV     17\n",
      "Blmngtn     17\n",
      "BrDale      16\n",
      "Veenker     11\n",
      "NPkVill      9\n",
      "Blueste      2\n",
      "Name: Neighborhood, dtype: int64\n",
      "\n",
      "CONDITION1 9\n",
      "['Norm' 'Feedr' 'PosN' 'Artery' 'RRAe' 'RRNn' 'RRAn' 'PosA' 'RRNe']\n",
      "Norm      1260\n",
      "Feedr       81\n",
      "Artery      48\n",
      "RRAn        26\n",
      "PosN        19\n",
      "RRAe        11\n",
      "PosA         8\n",
      "RRNn         5\n",
      "RRNe         2\n",
      "Name: Condition1, dtype: int64\n",
      "\n",
      "CONDITION2 8\n",
      "['Norm' 'Artery' 'RRNn' 'Feedr' 'PosN' 'PosA' 'RRAn' 'RRAe']\n",
      "Norm      1445\n",
      "Feedr        6\n",
      "Artery       2\n",
      "RRNn         2\n",
      "PosN         2\n",
      "PosA         1\n",
      "RRAn         1\n",
      "RRAe         1\n",
      "Name: Condition2, dtype: int64\n",
      "\n",
      "BLDGTYPE 5\n",
      "['1Fam' '2fmCon' 'Duplex' 'TwnhsE' 'Twnhs']\n",
      "1Fam      1220\n",
      "TwnhsE     114\n",
      "Duplex      52\n",
      "Twnhs       43\n",
      "2fmCon      31\n",
      "Name: BldgType, dtype: int64\n",
      "\n",
      "HOUSESTYLE 8\n",
      "['2Story' '1Story' '1.5Fin' '1.5Unf' 'SFoyer' 'SLvl' '2.5Unf' '2.5Fin']\n",
      "1Story    726\n",
      "2Story    445\n",
      "1.5Fin    154\n",
      "SLvl       65\n",
      "SFoyer     37\n",
      "1.5Unf     14\n",
      "2.5Unf     11\n",
      "2.5Fin      8\n",
      "Name: HouseStyle, dtype: int64\n",
      "\n",
      "ROOFSTYLE 6\n",
      "['Gable' 'Hip' 'Gambrel' 'Mansard' 'Flat' 'Shed']\n",
      "Gable      1141\n",
      "Hip         286\n",
      "Flat         13\n",
      "Gambrel      11\n",
      "Mansard       7\n",
      "Shed          2\n",
      "Name: RoofStyle, dtype: int64\n",
      "\n",
      "ROOFMATL 8\n",
      "['CompShg' 'WdShngl' 'Metal' 'WdShake' 'Membran' 'Tar&Grv' 'Roll'\n",
      " 'ClyTile']\n",
      "CompShg    1434\n",
      "Tar&Grv      11\n",
      "WdShngl       6\n",
      "WdShake       5\n",
      "Metal         1\n",
      "Membran       1\n",
      "Roll          1\n",
      "ClyTile       1\n",
      "Name: RoofMatl, dtype: int64\n",
      "\n",
      "EXTERIOR1ST 15\n",
      "['VinylSd' 'MetalSd' 'Wd Sdng' 'HdBoard' 'BrkFace' 'WdShing' 'CemntBd'\n",
      " 'Plywood' 'AsbShng' 'Stucco' 'BrkComm' 'AsphShn' 'Stone' 'ImStucc'\n",
      " 'CBlock']\n",
      "VinylSd    515\n",
      "HdBoard    222\n",
      "MetalSd    220\n",
      "Wd Sdng    206\n",
      "Plywood    108\n",
      "CemntBd     61\n",
      "BrkFace     50\n",
      "WdShing     26\n",
      "Stucco      25\n",
      "AsbShng     20\n",
      "BrkComm      2\n",
      "Stone        2\n",
      "AsphShn      1\n",
      "ImStucc      1\n",
      "CBlock       1\n",
      "Name: Exterior1st, dtype: int64\n",
      "\n",
      "EXTERIOR2ND 16\n",
      "['VinylSd' 'MetalSd' 'Wd Shng' 'HdBoard' 'Plywood' 'Wd Sdng' 'CmentBd'\n",
      " 'BrkFace' 'Stucco' 'AsbShng' 'Brk Cmn' 'ImStucc' 'AsphShn' 'Stone'\n",
      " 'Other' 'CBlock']\n",
      "VinylSd    504\n",
      "MetalSd    214\n",
      "HdBoard    207\n",
      "Wd Sdng    197\n",
      "Plywood    142\n",
      "CmentBd     60\n",
      "Wd Shng     38\n",
      "Stucco      26\n",
      "BrkFace     25\n",
      "AsbShng     20\n",
      "ImStucc     10\n",
      "Brk Cmn      7\n",
      "Stone        5\n",
      "AsphShn      3\n",
      "Other        1\n",
      "CBlock       1\n",
      "Name: Exterior2nd, dtype: int64\n",
      "\n",
      "MASVNRTYPE 4\n",
      "['BrkFace' 'None' 'Stone' 'BrkCmn' nan]\n",
      "None       864\n",
      "BrkFace    445\n",
      "Stone      128\n",
      "BrkCmn      15\n",
      "Name: MasVnrType, dtype: int64\n",
      "\n",
      "EXTERQUAL 4\n",
      "['Gd' 'TA' 'Ex' 'Fa']\n",
      "TA    906\n",
      "Gd    488\n",
      "Ex     52\n",
      "Fa     14\n",
      "Name: ExterQual, dtype: int64\n",
      "\n",
      "EXTERCOND 5\n",
      "['TA' 'Gd' 'Fa' 'Po' 'Ex']\n",
      "TA    1282\n",
      "Gd     146\n",
      "Fa      28\n",
      "Ex       3\n",
      "Po       1\n",
      "Name: ExterCond, dtype: int64\n",
      "\n",
      "FOUNDATION 6\n",
      "['PConc' 'CBlock' 'BrkTil' 'Wood' 'Slab' 'Stone']\n",
      "PConc     647\n",
      "CBlock    634\n",
      "BrkTil    146\n",
      "Slab       24\n",
      "Stone       6\n",
      "Wood        3\n",
      "Name: Foundation, dtype: int64\n",
      "\n",
      "BSMTQUAL 4\n",
      "['Gd' 'TA' 'Ex' nan 'Fa']\n",
      "TA    649\n",
      "Gd    618\n",
      "Ex    121\n",
      "Fa     35\n",
      "Name: BsmtQual, dtype: int64\n",
      "\n",
      "BSMTCOND 4\n",
      "['TA' 'Gd' nan 'Fa' 'Po']\n",
      "TA    1311\n",
      "Gd      65\n",
      "Fa      45\n",
      "Po       2\n",
      "Name: BsmtCond, dtype: int64\n",
      "\n",
      "BSMTEXPOSURE 4\n",
      "['No' 'Gd' 'Mn' 'Av' nan]\n",
      "No    953\n",
      "Av    221\n",
      "Gd    134\n",
      "Mn    114\n",
      "Name: BsmtExposure, dtype: int64\n",
      "\n",
      "BSMTFINTYPE1 6\n",
      "['GLQ' 'ALQ' 'Unf' 'Rec' 'BLQ' nan 'LwQ']\n",
      "Unf    430\n",
      "GLQ    418\n",
      "ALQ    220\n",
      "BLQ    148\n",
      "Rec    133\n",
      "LwQ     74\n",
      "Name: BsmtFinType1, dtype: int64\n",
      "\n",
      "BSMTFINTYPE2 6\n",
      "['Unf' 'BLQ' nan 'ALQ' 'Rec' 'LwQ' 'GLQ']\n",
      "Unf    1256\n",
      "Rec      54\n",
      "LwQ      46\n",
      "BLQ      33\n",
      "ALQ      19\n",
      "GLQ      14\n",
      "Name: BsmtFinType2, dtype: int64\n",
      "\n",
      "HEATING 6\n",
      "['GasA' 'GasW' 'Grav' 'Wall' 'OthW' 'Floor']\n",
      "GasA     1428\n",
      "GasW       18\n",
      "Grav        7\n",
      "Wall        4\n",
      "OthW        2\n",
      "Floor       1\n",
      "Name: Heating, dtype: int64\n",
      "\n",
      "HEATINGQC 5\n",
      "['Ex' 'Gd' 'TA' 'Fa' 'Po']\n",
      "Ex    741\n",
      "TA    428\n",
      "Gd    241\n",
      "Fa     49\n",
      "Po      1\n",
      "Name: HeatingQC, dtype: int64\n",
      "\n",
      "CENTRALAIR 2\n",
      "['Y' 'N']\n",
      "Y    1365\n",
      "N      95\n",
      "Name: CentralAir, dtype: int64\n",
      "\n",
      "ELECTRICAL 5\n",
      "['SBrkr' 'FuseF' 'FuseA' 'FuseP' 'Mix' nan]\n",
      "SBrkr    1334\n",
      "FuseA      94\n",
      "FuseF      27\n",
      "FuseP       3\n",
      "Mix         1\n",
      "Name: Electrical, dtype: int64\n",
      "\n",
      "KITCHENQUAL 4\n",
      "['Gd' 'TA' 'Ex' 'Fa']\n",
      "TA    735\n",
      "Gd    586\n",
      "Ex    100\n",
      "Fa     39\n",
      "Name: KitchenQual, dtype: int64\n",
      "\n",
      "FUNCTIONAL 7\n",
      "['Typ' 'Min1' 'Maj1' 'Min2' 'Mod' 'Maj2' 'Sev']\n",
      "Typ     1360\n",
      "Min2      34\n",
      "Min1      31\n",
      "Mod       15\n",
      "Maj1      14\n",
      "Maj2       5\n",
      "Sev        1\n",
      "Name: Functional, dtype: int64\n",
      "\n",
      "GARAGETYPE 6\n",
      "['Attchd' 'Detchd' 'BuiltIn' 'CarPort' nan 'Basment' '2Types']\n",
      "Attchd     870\n",
      "Detchd     387\n",
      "BuiltIn     88\n",
      "Basment     19\n",
      "CarPort      9\n",
      "2Types       6\n",
      "Name: GarageType, dtype: int64\n",
      "\n",
      "GARAGEFINISH 3\n",
      "['RFn' 'Unf' 'Fin' nan]\n",
      "Unf    605\n",
      "RFn    422\n",
      "Fin    352\n",
      "Name: GarageFinish, dtype: int64\n",
      "\n",
      "GARAGEQUAL 5\n",
      "['TA' 'Fa' 'Gd' nan 'Ex' 'Po']\n",
      "TA    1311\n",
      "Fa      48\n",
      "Gd      14\n",
      "Ex       3\n",
      "Po       3\n",
      "Name: GarageQual, dtype: int64\n",
      "\n",
      "GARAGECOND 5\n",
      "['TA' 'Fa' nan 'Gd' 'Po' 'Ex']\n",
      "TA    1326\n",
      "Fa      35\n",
      "Gd       9\n",
      "Po       7\n",
      "Ex       2\n",
      "Name: GarageCond, dtype: int64\n",
      "\n",
      "PAVEDDRIVE 3\n",
      "['Y' 'N' 'P']\n",
      "Y    1340\n",
      "N      90\n",
      "P      30\n",
      "Name: PavedDrive, dtype: int64\n",
      "\n",
      "SALETYPE 9\n",
      "['WD' 'New' 'COD' 'ConLD' 'ConLI' 'CWD' 'ConLw' 'Con' 'Oth']\n",
      "WD       1267\n",
      "New       122\n",
      "COD        43\n",
      "ConLD       9\n",
      "ConLI       5\n",
      "ConLw       5\n",
      "CWD         4\n",
      "Oth         3\n",
      "Con         2\n",
      "Name: SaleType, dtype: int64\n",
      "\n",
      "SALECONDITION 6\n",
      "['Normal' 'Abnorml' 'Partial' 'AdjLand' 'Alloca' 'Family']\n",
      "Normal     1198\n",
      "Partial     125\n",
      "Abnorml     101\n",
      "Family       20\n",
      "Alloca       12\n",
      "AdjLand       4\n",
      "Name: SaleCondition, dtype: int64\n",
      "\n"
     ]
    }
   ],
   "source": [
    "for i in cat_col.columns:\n",
    "    print(i.upper(), cat_col[i].nunique())\n",
    "    print(cat_col[i].unique())\n",
    "    print(cat_col[i].value_counts())\n",
    "    print('')"
   ]
  },
  {
   "cell_type": "code",
   "execution_count": 92,
   "id": "a7c1e457",
   "metadata": {},
   "outputs": [],
   "source": [
    "for i in range(1,38):\n",
    "    a=cat_col.columns[i]\n",
    "    cat_col[a]=cat_col[a].fillna(cat_col[a].mode()[0])"
   ]
  },
  {
   "cell_type": "code",
   "execution_count": 93,
   "id": "79108966",
   "metadata": {},
   "outputs": [
    {
     "data": {
      "text/plain": [
       "MSZoning         0\n",
       "Street           0\n",
       "LotShape         0\n",
       "LandContour      0\n",
       "Utilities        0\n",
       "LotConfig        0\n",
       "LandSlope        0\n",
       "Neighborhood     0\n",
       "Condition1       0\n",
       "Condition2       0\n",
       "BldgType         0\n",
       "HouseStyle       0\n",
       "RoofStyle        0\n",
       "RoofMatl         0\n",
       "Exterior1st      0\n",
       "Exterior2nd      0\n",
       "MasVnrType       0\n",
       "ExterQual        0\n",
       "ExterCond        0\n",
       "Foundation       0\n",
       "BsmtQual         0\n",
       "BsmtCond         0\n",
       "BsmtExposure     0\n",
       "BsmtFinType1     0\n",
       "BsmtFinType2     0\n",
       "Heating          0\n",
       "HeatingQC        0\n",
       "CentralAir       0\n",
       "Electrical       0\n",
       "KitchenQual      0\n",
       "Functional       0\n",
       "GarageType       0\n",
       "GarageFinish     0\n",
       "GarageQual       0\n",
       "GarageCond       0\n",
       "PavedDrive       0\n",
       "SaleType         0\n",
       "SaleCondition    0\n",
       "dtype: int64"
      ]
     },
     "execution_count": 93,
     "metadata": {},
     "output_type": "execute_result"
    }
   ],
   "source": [
    "cat_col.isnull().sum()"
   ]
  },
  {
   "cell_type": "code",
   "execution_count": 94,
   "id": "84b0305d",
   "metadata": {},
   "outputs": [],
   "source": [
    "# OUtliers Treatment"
   ]
  },
  {
   "cell_type": "code",
   "execution_count": 95,
   "id": "9a786775",
   "metadata": {},
   "outputs": [
    {
     "data": {
      "text/plain": [
       "(1460, 38)"
      ]
     },
     "execution_count": 95,
     "metadata": {},
     "output_type": "execute_result"
    }
   ],
   "source": [
    "num_col.shape"
   ]
  },
  {
   "cell_type": "code",
   "execution_count": 96,
   "id": "7a2d3aa4",
   "metadata": {
    "scrolled": false
   },
   "outputs": [
    {
     "data": {
      "image/png": "[encoded data removed]",
      "text/plain": [
       "<Figure size 2000x4000 with 38 Axes>"
      ]
     },
     "metadata": {},
     "output_type": "display_data"
    }
   ],
   "source": [
    "plt.figure(figsize=(20,40))\n",
    "for i in range(len(num_col.columns)):\n",
    "    plt.subplot(13,3,i+1)\n",
    "    sns.boxplot(data=num_col,x=num_col.columns[i])\n",
    "    plt.tight_layout()"
   ]
  },
  {
   "cell_type": "code",
   "execution_count": 97,
   "id": "2a94cd6e",
   "metadata": {},
   "outputs": [],
   "source": [
    "def remove_outliers(col):\n",
    "    q5,q1,q3,q95=np.nanpercentile(col,[5,25,75,95])\n",
    "    IQR=q3-q1\n",
    "    ul=q3+(1.5*IQR)\n",
    "    ll=q1-(1.5*IQR)\n",
    "    return(q5,q95,ul,ll)"
   ]
  },
  {
   "cell_type": "code",
   "execution_count": 98,
   "id": "d58a0fe3",
   "metadata": {
    "scrolled": false
   },
   "outputs": [
    {
     "name": "stdout",
     "output_type": "stream",
     "text": [
      "Lower Fence and Upper Fence of Id  =  -728.5 & 2189.5\n",
      "5 percent and 95 percent Fence of Id  =  73.95 & 1387.05\n",
      "Min & Max Id = 1 & 1460\n",
      "\n",
      "Lower Fence and Upper Fence of MSSubClass  =  -55.0 & 145.0\n",
      "5 percent and 95 percent Fence of MSSubClass  =  20.0 & 160.0\n",
      "Min & Max MSSubClass = 20 & 190\n",
      "\n",
      "Lower Fence and Upper Fence of LotFrontage  =  31.5 & 107.5\n",
      "5 percent and 95 percent Fence of LotFrontage  =  35.95 & 104.0\n",
      "Min & Max LotFrontage = 21.0 & 313.0\n",
      "\n",
      "Lower Fence and Upper Fence of LotArea  =  1481.5 & 17673.5\n",
      "5 percent and 95 percent Fence of LotArea  =  3311.7 & 17401.15\n",
      "Min & Max LotArea = 1300 & 215245\n",
      "\n",
      "Lower Fence and Upper Fence of OverallQual  =  2.0 & 10.0\n",
      "5 percent and 95 percent Fence of OverallQual  =  4.0 & 8.0\n",
      "Min & Max OverallQual = 1 & 10\n",
      "\n",
      "Lower Fence and Upper Fence of OverallCond  =  3.5 & 7.5\n",
      "5 percent and 95 percent Fence of OverallCond  =  4.0 & 8.0\n",
      "Min & Max OverallCond = 1 & 9\n",
      "\n",
      "Lower Fence and Upper Fence of YearBuilt  =  1885.0 & 2069.0\n",
      "5 percent and 95 percent Fence of YearBuilt  =  1916.0 & 2007.0\n",
      "Min & Max YearBuilt = 1872 & 2010\n",
      "\n",
      "Lower Fence and Upper Fence of YearRemodAdd  =  1911.5 & 2059.5\n",
      "5 percent and 95 percent Fence of YearRemodAdd  =  1950.0 & 2007.0\n",
      "Min & Max YearRemodAdd = 1950 & 2010\n",
      "\n",
      "Lower Fence and Upper Fence of MasVnrArea  =  -246.375 & 410.625\n",
      "5 percent and 95 percent Fence of MasVnrArea  =  0.0 & 456.0\n",
      "Min & Max MasVnrArea = 0.0 & 1600.0\n",
      "\n",
      "Lower Fence and Upper Fence of BsmtFinSF1  =  -1068.375 & 1780.625\n",
      "5 percent and 95 percent Fence of BsmtFinSF1  =  0.0 & 1274.0\n",
      "Min & Max BsmtFinSF1 = 0 & 5644\n",
      "\n",
      "Lower Fence and Upper Fence of BsmtFinSF2  =  0.0 & 0.0\n",
      "5 percent and 95 percent Fence of BsmtFinSF2  =  0.0 & 396.2\n",
      "Min & Max BsmtFinSF2 = 0 & 1474\n",
      "\n",
      "Lower Fence and Upper Fence of BsmtUnfSF  =  -654.5 & 1685.5\n",
      "5 percent and 95 percent Fence of BsmtUnfSF  =  0.0 & 1468.0\n",
      "Min & Max BsmtUnfSF = 0 & 2336\n",
      "\n",
      "Lower Fence and Upper Fence of TotalBsmtSF  =  42.0 & 2052.0\n",
      "5 percent and 95 percent Fence of TotalBsmtSF  =  519.3 & 1753.0\n",
      "Min & Max TotalBsmtSF = 0 & 6110\n",
      "\n",
      "Lower Fence and Upper Fence of 1stFlrSF  =  118.125 & 2155.125\n",
      "5 percent and 95 percent Fence of 1stFlrSF  =  672.95 & 1831.25\n",
      "Min & Max 1stFlrSF = 334 & 4692\n",
      "\n",
      "Lower Fence and Upper Fence of 2ndFlrSF  =  -1092.0 & 1820.0\n",
      "5 percent and 95 percent Fence of 2ndFlrSF  =  0.0 & 1141.05\n",
      "Min & Max 2ndFlrSF = 0 & 2065\n",
      "\n",
      "Lower Fence and Upper Fence of LowQualFinSF  =  0.0 & 0.0\n",
      "5 percent and 95 percent Fence of LowQualFinSF  =  0.0 & 0.0\n",
      "Min & Max LowQualFinSF = 0 & 572\n",
      "\n",
      "Lower Fence and Upper Fence of GrLivArea  =  158.625 & 2747.625\n",
      "5 percent and 95 percent Fence of GrLivArea  =  848.0 & 2466.1\n",
      "Min & Max GrLivArea = 334 & 5642\n",
      "\n",
      "Lower Fence and Upper Fence of BsmtFullBath  =  -1.5 & 2.5\n",
      "5 percent and 95 percent Fence of BsmtFullBath  =  0.0 & 1.0\n",
      "Min & Max BsmtFullBath = 0 & 3\n",
      "\n",
      "Lower Fence and Upper Fence of BsmtHalfBath  =  0.0 & 0.0\n",
      "5 percent and 95 percent Fence of BsmtHalfBath  =  0.0 & 1.0\n",
      "Min & Max BsmtHalfBath = 0 & 2\n",
      "\n",
      "Lower Fence and Upper Fence of FullBath  =  -0.5 & 3.5\n",
      "5 percent and 95 percent Fence of FullBath  =  1.0 & 2.0\n",
      "Min & Max FullBath = 0 & 3\n",
      "\n",
      "Lower Fence and Upper Fence of HalfBath  =  -1.5 & 2.5\n",
      "5 percent and 95 percent Fence of HalfBath  =  0.0 & 1.0\n",
      "Min & Max HalfBath = 0 & 2\n",
      "\n",
      "Lower Fence and Upper Fence of BedroomAbvGr  =  0.5 & 4.5\n",
      "5 percent and 95 percent Fence of BedroomAbvGr  =  2.0 & 4.0\n",
      "Min & Max BedroomAbvGr = 0 & 8\n",
      "\n",
      "Lower Fence and Upper Fence of KitchenAbvGr  =  1.0 & 1.0\n",
      "5 percent and 95 percent Fence of KitchenAbvGr  =  1.0 & 1.0\n",
      "Min & Max KitchenAbvGr = 0 & 3\n",
      "\n",
      "Lower Fence and Upper Fence of TotRmsAbvGrd  =  2.0 & 10.0\n",
      "5 percent and 95 percent Fence of TotRmsAbvGrd  =  4.0 & 10.0\n",
      "Min & Max TotRmsAbvGrd = 2 & 14\n",
      "\n",
      "Lower Fence and Upper Fence of Fireplaces  =  -1.5 & 2.5\n",
      "5 percent and 95 percent Fence of Fireplaces  =  0.0 & 2.0\n",
      "Min & Max Fireplaces = 0 & 3\n",
      "\n",
      "Lower Fence and Upper Fence of GarageYrBlt  =  1903.5 & 2059.5\n",
      "5 percent and 95 percent Fence of GarageYrBlt  =  1930.0 & 2007.0\n",
      "Min & Max GarageYrBlt = 1900.0 & 2010.0\n",
      "\n",
      "Lower Fence and Upper Fence of GarageCars  =  -0.5 & 3.5\n",
      "5 percent and 95 percent Fence of GarageCars  =  0.0 & 3.0\n",
      "Min & Max GarageCars = 0 & 4\n",
      "\n",
      "Lower Fence and Upper Fence of GarageArea  =  -27.75 & 938.25\n",
      "5 percent and 95 percent Fence of GarageArea  =  0.0 & 850.1\n",
      "Min & Max GarageArea = 0 & 1418\n",
      "\n",
      "Lower Fence and Upper Fence of WoodDeckSF  =  -252.0 & 420.0\n",
      "5 percent and 95 percent Fence of WoodDeckSF  =  0.0 & 335.0\n",
      "Min & Max WoodDeckSF = 0 & 857\n",
      "\n",
      "Lower Fence and Upper Fence of OpenPorchSF  =  -102.0 & 170.0\n",
      "5 percent and 95 percent Fence of OpenPorchSF  =  0.0 & 175.05\n",
      "Min & Max OpenPorchSF = 0 & 547\n",
      "\n",
      "Lower Fence and Upper Fence of EnclosedPorch  =  0.0 & 0.0\n",
      "5 percent and 95 percent Fence of EnclosedPorch  =  0.0 & 180.15\n",
      "Min & Max EnclosedPorch = 0 & 552\n",
      "\n",
      "Lower Fence and Upper Fence of 3SsnPorch  =  0.0 & 0.0\n",
      "5 percent and 95 percent Fence of 3SsnPorch  =  0.0 & 0.0\n",
      "Min & Max 3SsnPorch = 0 & 508\n",
      "\n",
      "Lower Fence and Upper Fence of ScreenPorch  =  0.0 & 0.0\n",
      "5 percent and 95 percent Fence of ScreenPorch  =  0.0 & 160.0\n",
      "Min & Max ScreenPorch = 0 & 480\n",
      "\n",
      "Lower Fence and Upper Fence of PoolArea  =  0.0 & 0.0\n",
      "5 percent and 95 percent Fence of PoolArea  =  0.0 & 0.0\n",
      "Min & Max PoolArea = 0 & 738\n",
      "\n",
      "Lower Fence and Upper Fence of MiscVal  =  0.0 & 0.0\n",
      "5 percent and 95 percent Fence of MiscVal  =  0.0 & 0.0\n",
      "Min & Max MiscVal = 0 & 15500\n",
      "\n",
      "Lower Fence and Upper Fence of MoSold  =  0.5 & 12.5\n",
      "5 percent and 95 percent Fence of MoSold  =  2.0 & 11.0\n",
      "Min & Max MoSold = 1 & 12\n",
      "\n",
      "Lower Fence and Upper Fence of YrSold  =  2004.0 & 2012.0\n",
      "5 percent and 95 percent Fence of YrSold  =  2006.0 & 2010.0\n",
      "Min & Max YrSold = 2006 & 2010\n",
      "\n",
      "Lower Fence and Upper Fence of SalePrice  =  3937.5 & 340037.5\n",
      "5 percent and 95 percent Fence of SalePrice  =  88000.0 & 326100.0\n",
      "Min & Max SalePrice = 34900 & 755000\n",
      "\n"
     ]
    }
   ],
   "source": [
    "for i in num_col.columns:\n",
    "    q5,q95,ul,ll=remove_outliers(num_col[i])\n",
    "    print('Lower Fence and Upper Fence of {}'.format(i),' = ',round(ll,3),'&', round(ul,3))\n",
    "    print('5 percent and 95 percent Fence of {}'.format(i),' = ',round(q5,3),'&', round(q95,3))\n",
    "    print('Min & Max {}'.format(i),'=',round(num_col[i].min(),3),'&',round(num_col[i].max(),3))\n",
    "    print('')"
   ]
  },
  {
   "cell_type": "code",
   "execution_count": 99,
   "id": "12d55aa4",
   "metadata": {},
   "outputs": [
    {
     "data": {
      "text/html": [
       "<div>\n",
       "<style scoped>\n",
       "    .dataframe tbody tr th:only-of-type {\n",
       "        vertical-align: middle;\n",
       "    }\n",
       "\n",
       "    .dataframe tbody tr th {\n",
       "        vertical-align: top;\n",
       "    }\n",
       "\n",
       "    .dataframe thead th {\n",
       "        text-align: right;\n",
       "    }\n",
       "</style>\n",
       "<table border=\"1\" class=\"dataframe\">\n",
       "  <thead>\n",
       "    <tr style=\"text-align: right;\">\n",
       "      <th></th>\n",
       "      <th>Id</th>\n",
       "      <th>MSSubClass</th>\n",
       "      <th>LotFrontage</th>\n",
       "      <th>LotArea</th>\n",
       "      <th>OverallQual</th>\n",
       "      <th>OverallCond</th>\n",
       "      <th>YearBuilt</th>\n",
       "      <th>YearRemodAdd</th>\n",
       "      <th>MasVnrArea</th>\n",
       "      <th>BsmtFinSF1</th>\n",
       "      <th>...</th>\n",
       "      <th>WoodDeckSF</th>\n",
       "      <th>OpenPorchSF</th>\n",
       "      <th>EnclosedPorch</th>\n",
       "      <th>3SsnPorch</th>\n",
       "      <th>ScreenPorch</th>\n",
       "      <th>PoolArea</th>\n",
       "      <th>MiscVal</th>\n",
       "      <th>MoSold</th>\n",
       "      <th>YrSold</th>\n",
       "      <th>SalePrice</th>\n",
       "    </tr>\n",
       "  </thead>\n",
       "  <tbody>\n",
       "    <tr>\n",
       "      <th>11</th>\n",
       "      <td>12</td>\n",
       "      <td>60</td>\n",
       "      <td>85.0</td>\n",
       "      <td>11924</td>\n",
       "      <td>9</td>\n",
       "      <td>5</td>\n",
       "      <td>2005</td>\n",
       "      <td>2006</td>\n",
       "      <td>286.0</td>\n",
       "      <td>998</td>\n",
       "      <td>...</td>\n",
       "      <td>147</td>\n",
       "      <td>21</td>\n",
       "      <td>0</td>\n",
       "      <td>0</td>\n",
       "      <td>0</td>\n",
       "      <td>0</td>\n",
       "      <td>0</td>\n",
       "      <td>7</td>\n",
       "      <td>2006</td>\n",
       "      <td>345000</td>\n",
       "    </tr>\n",
       "    <tr>\n",
       "      <th>53</th>\n",
       "      <td>54</td>\n",
       "      <td>20</td>\n",
       "      <td>68.0</td>\n",
       "      <td>50271</td>\n",
       "      <td>9</td>\n",
       "      <td>5</td>\n",
       "      <td>1981</td>\n",
       "      <td>1987</td>\n",
       "      <td>0.0</td>\n",
       "      <td>1810</td>\n",
       "      <td>...</td>\n",
       "      <td>857</td>\n",
       "      <td>72</td>\n",
       "      <td>0</td>\n",
       "      <td>0</td>\n",
       "      <td>0</td>\n",
       "      <td>0</td>\n",
       "      <td>0</td>\n",
       "      <td>11</td>\n",
       "      <td>2006</td>\n",
       "      <td>385000</td>\n",
       "    </tr>\n",
       "    <tr>\n",
       "      <th>58</th>\n",
       "      <td>59</td>\n",
       "      <td>60</td>\n",
       "      <td>66.0</td>\n",
       "      <td>13682</td>\n",
       "      <td>10</td>\n",
       "      <td>5</td>\n",
       "      <td>2006</td>\n",
       "      <td>2006</td>\n",
       "      <td>1031.0</td>\n",
       "      <td>0</td>\n",
       "      <td>...</td>\n",
       "      <td>192</td>\n",
       "      <td>0</td>\n",
       "      <td>37</td>\n",
       "      <td>0</td>\n",
       "      <td>0</td>\n",
       "      <td>0</td>\n",
       "      <td>0</td>\n",
       "      <td>10</td>\n",
       "      <td>2006</td>\n",
       "      <td>438780</td>\n",
       "    </tr>\n",
       "    <tr>\n",
       "      <th>112</th>\n",
       "      <td>113</td>\n",
       "      <td>60</td>\n",
       "      <td>77.0</td>\n",
       "      <td>9965</td>\n",
       "      <td>7</td>\n",
       "      <td>5</td>\n",
       "      <td>2007</td>\n",
       "      <td>2007</td>\n",
       "      <td>220.0</td>\n",
       "      <td>984</td>\n",
       "      <td>...</td>\n",
       "      <td>120</td>\n",
       "      <td>184</td>\n",
       "      <td>0</td>\n",
       "      <td>0</td>\n",
       "      <td>168</td>\n",
       "      <td>0</td>\n",
       "      <td>0</td>\n",
       "      <td>10</td>\n",
       "      <td>2007</td>\n",
       "      <td>383970</td>\n",
       "    </tr>\n",
       "    <tr>\n",
       "      <th>151</th>\n",
       "      <td>152</td>\n",
       "      <td>20</td>\n",
       "      <td>107.0</td>\n",
       "      <td>13891</td>\n",
       "      <td>8</td>\n",
       "      <td>5</td>\n",
       "      <td>2007</td>\n",
       "      <td>2008</td>\n",
       "      <td>436.0</td>\n",
       "      <td>1400</td>\n",
       "      <td>...</td>\n",
       "      <td>0</td>\n",
       "      <td>102</td>\n",
       "      <td>0</td>\n",
       "      <td>0</td>\n",
       "      <td>0</td>\n",
       "      <td>0</td>\n",
       "      <td>0</td>\n",
       "      <td>1</td>\n",
       "      <td>2008</td>\n",
       "      <td>372402</td>\n",
       "    </tr>\n",
       "    <tr>\n",
       "      <th>...</th>\n",
       "      <td>...</td>\n",
       "      <td>...</td>\n",
       "      <td>...</td>\n",
       "      <td>...</td>\n",
       "      <td>...</td>\n",
       "      <td>...</td>\n",
       "      <td>...</td>\n",
       "      <td>...</td>\n",
       "      <td>...</td>\n",
       "      <td>...</td>\n",
       "      <td>...</td>\n",
       "      <td>...</td>\n",
       "      <td>...</td>\n",
       "      <td>...</td>\n",
       "      <td>...</td>\n",
       "      <td>...</td>\n",
       "      <td>...</td>\n",
       "      <td>...</td>\n",
       "      <td>...</td>\n",
       "      <td>...</td>\n",
       "      <td>...</td>\n",
       "    </tr>\n",
       "    <tr>\n",
       "      <th>1268</th>\n",
       "      <td>1269</td>\n",
       "      <td>50</td>\n",
       "      <td>69.0</td>\n",
       "      <td>14100</td>\n",
       "      <td>8</td>\n",
       "      <td>9</td>\n",
       "      <td>1935</td>\n",
       "      <td>1997</td>\n",
       "      <td>632.0</td>\n",
       "      <td>192</td>\n",
       "      <td>...</td>\n",
       "      <td>314</td>\n",
       "      <td>12</td>\n",
       "      <td>0</td>\n",
       "      <td>0</td>\n",
       "      <td>0</td>\n",
       "      <td>0</td>\n",
       "      <td>0</td>\n",
       "      <td>5</td>\n",
       "      <td>2008</td>\n",
       "      <td>381000</td>\n",
       "    </tr>\n",
       "    <tr>\n",
       "      <th>1353</th>\n",
       "      <td>1354</td>\n",
       "      <td>50</td>\n",
       "      <td>56.0</td>\n",
       "      <td>14720</td>\n",
       "      <td>8</td>\n",
       "      <td>5</td>\n",
       "      <td>1995</td>\n",
       "      <td>1996</td>\n",
       "      <td>579.0</td>\n",
       "      <td>816</td>\n",
       "      <td>...</td>\n",
       "      <td>283</td>\n",
       "      <td>86</td>\n",
       "      <td>0</td>\n",
       "      <td>0</td>\n",
       "      <td>0</td>\n",
       "      <td>0</td>\n",
       "      <td>0</td>\n",
       "      <td>3</td>\n",
       "      <td>2010</td>\n",
       "      <td>410000</td>\n",
       "    </tr>\n",
       "    <tr>\n",
       "      <th>1373</th>\n",
       "      <td>1374</td>\n",
       "      <td>20</td>\n",
       "      <td>69.0</td>\n",
       "      <td>11400</td>\n",
       "      <td>10</td>\n",
       "      <td>5</td>\n",
       "      <td>2001</td>\n",
       "      <td>2002</td>\n",
       "      <td>705.0</td>\n",
       "      <td>1282</td>\n",
       "      <td>...</td>\n",
       "      <td>314</td>\n",
       "      <td>140</td>\n",
       "      <td>0</td>\n",
       "      <td>0</td>\n",
       "      <td>0</td>\n",
       "      <td>0</td>\n",
       "      <td>0</td>\n",
       "      <td>3</td>\n",
       "      <td>2007</td>\n",
       "      <td>466500</td>\n",
       "    </tr>\n",
       "    <tr>\n",
       "      <th>1388</th>\n",
       "      <td>1389</td>\n",
       "      <td>20</td>\n",
       "      <td>42.0</td>\n",
       "      <td>14892</td>\n",
       "      <td>9</td>\n",
       "      <td>5</td>\n",
       "      <td>2006</td>\n",
       "      <td>2007</td>\n",
       "      <td>160.0</td>\n",
       "      <td>1320</td>\n",
       "      <td>...</td>\n",
       "      <td>201</td>\n",
       "      <td>39</td>\n",
       "      <td>0</td>\n",
       "      <td>0</td>\n",
       "      <td>0</td>\n",
       "      <td>0</td>\n",
       "      <td>0</td>\n",
       "      <td>10</td>\n",
       "      <td>2009</td>\n",
       "      <td>377500</td>\n",
       "    </tr>\n",
       "    <tr>\n",
       "      <th>1437</th>\n",
       "      <td>1438</td>\n",
       "      <td>20</td>\n",
       "      <td>96.0</td>\n",
       "      <td>12444</td>\n",
       "      <td>8</td>\n",
       "      <td>5</td>\n",
       "      <td>2008</td>\n",
       "      <td>2008</td>\n",
       "      <td>426.0</td>\n",
       "      <td>1336</td>\n",
       "      <td>...</td>\n",
       "      <td>0</td>\n",
       "      <td>66</td>\n",
       "      <td>0</td>\n",
       "      <td>304</td>\n",
       "      <td>0</td>\n",
       "      <td>0</td>\n",
       "      <td>0</td>\n",
       "      <td>11</td>\n",
       "      <td>2008</td>\n",
       "      <td>394617</td>\n",
       "    </tr>\n",
       "  </tbody>\n",
       "</table>\n",
       "<p>61 rows × 38 columns</p>\n",
       "</div>"
      ],
      "text/plain": [
       "        Id  MSSubClass  LotFrontage  LotArea  OverallQual  OverallCond  \\\n",
       "11      12          60         85.0    11924            9            5   \n",
       "53      54          20         68.0    50271            9            5   \n",
       "58      59          60         66.0    13682           10            5   \n",
       "112    113          60         77.0     9965            7            5   \n",
       "151    152          20        107.0    13891            8            5   \n",
       "...    ...         ...          ...      ...          ...          ...   \n",
       "1268  1269          50         69.0    14100            8            9   \n",
       "1353  1354          50         56.0    14720            8            5   \n",
       "1373  1374          20         69.0    11400           10            5   \n",
       "1388  1389          20         42.0    14892            9            5   \n",
       "1437  1438          20         96.0    12444            8            5   \n",
       "\n",
       "      YearBuilt  YearRemodAdd  MasVnrArea  BsmtFinSF1  ...  WoodDeckSF  \\\n",
       "11         2005          2006       286.0         998  ...         147   \n",
       "53         1981          1987         0.0        1810  ...         857   \n",
       "58         2006          2006      1031.0           0  ...         192   \n",
       "112        2007          2007       220.0         984  ...         120   \n",
       "151        2007          2008       436.0        1400  ...           0   \n",
       "...         ...           ...         ...         ...  ...         ...   \n",
       "1268       1935          1997       632.0         192  ...         314   \n",
       "1353       1995          1996       579.0         816  ...         283   \n",
       "1373       2001          2002       705.0        1282  ...         314   \n",
       "1388       2006          2007       160.0        1320  ...         201   \n",
       "1437       2008          2008       426.0        1336  ...           0   \n",
       "\n",
       "      OpenPorchSF  EnclosedPorch  3SsnPorch  ScreenPorch  PoolArea  MiscVal  \\\n",
       "11             21              0          0            0         0        0   \n",
       "53             72              0          0            0         0        0   \n",
       "58              0             37          0            0         0        0   \n",
       "112           184              0          0          168         0        0   \n",
       "151           102              0          0            0         0        0   \n",
       "...           ...            ...        ...          ...       ...      ...   \n",
       "1268           12              0          0            0         0        0   \n",
       "1353           86              0          0            0         0        0   \n",
       "1373          140              0          0            0         0        0   \n",
       "1388           39              0          0            0         0        0   \n",
       "1437           66              0        304            0         0        0   \n",
       "\n",
       "      MoSold  YrSold  SalePrice  \n",
       "11         7    2006     345000  \n",
       "53        11    2006     385000  \n",
       "58        10    2006     438780  \n",
       "112       10    2007     383970  \n",
       "151        1    2008     372402  \n",
       "...      ...     ...        ...  \n",
       "1268       5    2008     381000  \n",
       "1353       3    2010     410000  \n",
       "1373       3    2007     466500  \n",
       "1388      10    2009     377500  \n",
       "1437      11    2008     394617  \n",
       "\n",
       "[61 rows x 38 columns]"
      ]
     },
     "execution_count": 99,
     "metadata": {},
     "output_type": "execute_result"
    }
   ],
   "source": [
    "num_col[num_col.SalePrice > 340037]"
   ]
  },
  {
   "cell_type": "code",
   "execution_count": 39,
   "id": "cf94718e",
   "metadata": {},
   "outputs": [
    {
     "data": {
      "text/plain": [
       "<Axes: ylabel='SalePrice'>"
      ]
     },
     "execution_count": 39,
     "metadata": {},
     "output_type": "execute_result"
    },
    {
     "data": {
      "image/png": "[encoded data removed]",
      "text/plain": [
       "<Figure size 640x480 with 1 Axes>"
      ]
     },
     "metadata": {},
     "output_type": "display_data"
    }
   ],
   "source": [
    "sns.scatterplot(num_col.SalePrice)"
   ]
  },
  {
   "cell_type": "code",
   "execution_count": 100,
   "id": "5dd54adc",
   "metadata": {},
   "outputs": [],
   "source": [
    "from sklearn.preprocessing import LabelEncoder"
   ]
  },
  {
   "cell_type": "code",
   "execution_count": 101,
   "id": "ffb90791",
   "metadata": {},
   "outputs": [],
   "source": [
    "cat_col1=cat_col.copy()"
   ]
  },
  {
   "cell_type": "code",
   "execution_count": 102,
   "id": "1808c862",
   "metadata": {},
   "outputs": [],
   "source": [
    "encoder=LabelEncoder()"
   ]
  },
  {
   "cell_type": "code",
   "execution_count": 103,
   "id": "30d068c1",
   "metadata": {},
   "outputs": [],
   "source": [
    "for i in cat_col1.columns:\n",
    "    cat_col1[i]=encoder.fit_transform(cat_col1[i])"
   ]
  },
  {
   "cell_type": "code",
   "execution_count": 104,
   "id": "90c65025",
   "metadata": {},
   "outputs": [
    {
     "data": {
      "text/plain": [
       "3    925\n",
       "0    484\n",
       "1     41\n",
       "2     10\n",
       "Name: LotShape, dtype: int64"
      ]
     },
     "execution_count": 104,
     "metadata": {},
     "output_type": "execute_result"
    }
   ],
   "source": [
    "cat_col1.LotShape.value_counts()"
   ]
  },
  {
   "cell_type": "code",
   "execution_count": 105,
   "id": "4a11386f",
   "metadata": {},
   "outputs": [
    {
     "data": {
      "text/plain": [
       "Reg    925\n",
       "IR1    484\n",
       "IR2     41\n",
       "IR3     10\n",
       "Name: LotShape, dtype: int64"
      ]
     },
     "execution_count": 105,
     "metadata": {},
     "output_type": "execute_result"
    }
   ],
   "source": [
    "cat_col.LotShape.value_counts()"
   ]
  },
  {
   "cell_type": "code",
   "execution_count": 106,
   "id": "a8f73f50",
   "metadata": {},
   "outputs": [
    {
     "data": {
      "text/plain": [
       "Index(['MSZoning', 'Street', 'LotShape', 'LandContour', 'Utilities',\n",
       "       'LotConfig', 'LandSlope', 'Neighborhood', 'Condition1', 'Condition2',\n",
       "       'BldgType', 'HouseStyle', 'RoofStyle', 'RoofMatl', 'Exterior1st',\n",
       "       'Exterior2nd', 'MasVnrType', 'ExterQual', 'ExterCond', 'Foundation',\n",
       "       'BsmtQual', 'BsmtCond', 'BsmtExposure', 'BsmtFinType1', 'BsmtFinType2',\n",
       "       'Heating', 'HeatingQC', 'CentralAir', 'Electrical', 'KitchenQual',\n",
       "       'Functional', 'GarageType', 'GarageFinish', 'GarageQual', 'GarageCond',\n",
       "       'PavedDrive', 'SaleType', 'SaleCondition'],\n",
       "      dtype='object')"
      ]
     },
     "execution_count": 106,
     "metadata": {},
     "output_type": "execute_result"
    }
   ],
   "source": [
    "cat_col1.columns"
   ]
  },
  {
   "cell_type": "code",
   "execution_count": 107,
   "id": "67e46499",
   "metadata": {},
   "outputs": [],
   "source": [
    "df_train1=pd.concat([num_col,cat_col1],axis=1)"
   ]
  },
  {
   "cell_type": "code",
   "execution_count": 48,
   "id": "9516b22b",
   "metadata": {},
   "outputs": [],
   "source": [
    "from sklearn.preprocessing import StandardScaler"
   ]
  },
  {
   "cell_type": "code",
   "execution_count": 49,
   "id": "4cb3d4e0",
   "metadata": {},
   "outputs": [],
   "source": [
    "scaler=StandardScaler()"
   ]
  },
  {
   "cell_type": "code",
   "execution_count": 50,
   "id": "a42fedac",
   "metadata": {},
   "outputs": [],
   "source": [
    "df_train1_scaled=pd.DataFrame(scaler.fit_transform(df_train1),columns=df_train1.columns)"
   ]
  },
  {
   "cell_type": "code",
   "execution_count": 108,
   "id": "3f3e4b1b",
   "metadata": {},
   "outputs": [],
   "source": [
    "x=df_train1.drop('SalePrice',axis=1)\n",
    "y=df_train1.SalePrice"
   ]
  },
  {
   "cell_type": "raw",
   "id": "d7c6e824",
   "metadata": {},
   "source": [
    "X=df_train1_scaled.drop('SalePrice',axis=1)\n",
    "Y=df_train1_scaled.SalePrice"
   ]
  },
  {
   "cell_type": "code",
   "execution_count": 109,
   "id": "93c6efeb",
   "metadata": {},
   "outputs": [],
   "source": [
    "from sklearn.model_selection import train_test_split"
   ]
  },
  {
   "cell_type": "code",
   "execution_count": 110,
   "id": "297a71cc",
   "metadata": {},
   "outputs": [],
   "source": [
    "from sklearn.linear_model import LinearRegression,HuberRegressor,RANSACRegressor"
   ]
  },
  {
   "cell_type": "code",
   "execution_count": 57,
   "id": "ed3585a4",
   "metadata": {},
   "outputs": [],
   "source": [
    "X_train,X_test,Y_train,Y_test=train_test_split(X,Y,test_size=0.3,random_state=1)"
   ]
  },
  {
   "cell_type": "code",
   "execution_count": 111,
   "id": "f94e6177",
   "metadata": {},
   "outputs": [],
   "source": [
    "x_train,x_test,y_train,y_test=train_test_split(x,y,test_size=0.3,random_state=1)"
   ]
  },
  {
   "cell_type": "code",
   "execution_count": 112,
   "id": "bfc18b68",
   "metadata": {},
   "outputs": [],
   "source": [
    "lin_model=LinearRegression()"
   ]
  },
  {
   "cell_type": "code",
   "execution_count": 113,
   "id": "3932098b",
   "metadata": {},
   "outputs": [
    {
     "data": {
      "text/html": [
       "<style>#sk-container-id-2 {color: black;background-color: white;}#sk-container-id-2 pre{padding: 0;}#sk-container-id-2 div.sk-toggleable {background-color: white;}#sk-container-id-2 label.sk-toggleable__label {cursor: pointer;display: block;width: 100%;margin-bottom: 0;padding: 0.3em;box-sizing: border-box;text-align: center;}#sk-container-id-2 label.sk-toggleable__label-arrow:before {content: \"▸\";float: left;margin-right: 0.25em;color: #696969;}#sk-container-id-2 label.sk-toggleable__label-arrow:hover:before {color: black;}#sk-container-id-2 div.sk-estimator:hover label.sk-toggleable__label-arrow:before {color: black;}#sk-container-id-2 div.sk-toggleable__content {max-height: 0;max-width: 0;overflow: hidden;text-align: left;background-color: #f0f8ff;}#sk-container-id-2 div.sk-toggleable__content pre {margin: 0.2em;color: black;border-radius: 0.25em;background-color: #f0f8ff;}#sk-container-id-2 input.sk-toggleable__control:checked~div.sk-toggleable__content {max-height: 200px;max-width: 100%;overflow: auto;}#sk-container-id-2 input.sk-toggleable__control:checked~label.sk-toggleable__label-arrow:before {content: \"▾\";}#sk-container-id-2 div.sk-estimator input.sk-toggleable__control:checked~label.sk-toggleable__label {background-color: #d4ebff;}#sk-container-id-2 div.sk-label input.sk-toggleable__control:checked~label.sk-toggleable__label {background-color: #d4ebff;}#sk-container-id-2 input.sk-hidden--visually {border: 0;clip: rect(1px 1px 1px 1px);clip: rect(1px, 1px, 1px, 1px);height: 1px;margin: -1px;overflow: hidden;padding: 0;position: absolute;width: 1px;}#sk-container-id-2 div.sk-estimator {font-family: monospace;background-color: #f0f8ff;border: 1px dotted black;border-radius: 0.25em;box-sizing: border-box;margin-bottom: 0.5em;}#sk-container-id-2 div.sk-estimator:hover {background-color: #d4ebff;}#sk-container-id-2 div.sk-parallel-item::after {content: \"\";width: 100%;border-bottom: 1px solid gray;flex-grow: 1;}#sk-container-id-2 div.sk-label:hover label.sk-toggleable__label {background-color: #d4ebff;}#sk-container-id-2 div.sk-serial::before {content: \"\";position: absolute;border-left: 1px solid gray;box-sizing: border-box;top: 0;bottom: 0;left: 50%;z-index: 0;}#sk-container-id-2 div.sk-serial {display: flex;flex-direction: column;align-items: center;background-color: white;padding-right: 0.2em;padding-left: 0.2em;position: relative;}#sk-container-id-2 div.sk-item {position: relative;z-index: 1;}#sk-container-id-2 div.sk-parallel {display: flex;align-items: stretch;justify-content: center;background-color: white;position: relative;}#sk-container-id-2 div.sk-item::before, #sk-container-id-2 div.sk-parallel-item::before {content: \"\";position: absolute;border-left: 1px solid gray;box-sizing: border-box;top: 0;bottom: 0;left: 50%;z-index: -1;}#sk-container-id-2 div.sk-parallel-item {display: flex;flex-direction: column;z-index: 1;position: relative;background-color: white;}#sk-container-id-2 div.sk-parallel-item:first-child::after {align-self: flex-end;width: 50%;}#sk-container-id-2 div.sk-parallel-item:last-child::after {align-self: flex-start;width: 50%;}#sk-container-id-2 div.sk-parallel-item:only-child::after {width: 0;}#sk-container-id-2 div.sk-dashed-wrapped {border: 1px dashed gray;margin: 0 0.4em 0.5em 0.4em;box-sizing: border-box;padding-bottom: 0.4em;background-color: white;}#sk-container-id-2 div.sk-label label {font-family: monospace;font-weight: bold;display: inline-block;line-height: 1.2em;}#sk-container-id-2 div.sk-label-container {text-align: center;}#sk-container-id-2 div.sk-container {/* jupyter's `normalize.less` sets `[hidden] { display: none; }` but bootstrap.min.css set `[hidden] { display: none !important; }` so we also need the `!important` here to be able to override the default hidden behavior on the sphinx rendered scikit-learn.org. See: https://github.com/scikit-learn/scikit-learn/issues/21755 */display: inline-block !important;position: relative;}#sk-container-id-2 div.sk-text-repr-fallback {display: none;}</style><div id=\"sk-container-id-2\" class=\"sk-top-container\"><div class=\"sk-text-repr-fallback\"><pre>LinearRegression()</pre><b>In a Jupyter environment, please rerun this cell to show the HTML representation or trust the notebook. <br />On GitHub, the HTML representation is unable to render, please try loading this page with nbviewer.org.</b></div><div class=\"sk-container\" hidden><div class=\"sk-item\"><div class=\"sk-estimator sk-toggleable\"><input class=\"sk-toggleable__control sk-hidden--visually\" id=\"sk-estimator-id-2\" type=\"checkbox\" checked><label for=\"sk-estimator-id-2\" class=\"sk-toggleable__label sk-toggleable__label-arrow\">LinearRegression</label><div class=\"sk-toggleable__content\"><pre>LinearRegression()</pre></div></div></div></div></div>"
      ],
      "text/plain": [
       "LinearRegression()"
      ]
     },
     "execution_count": 113,
     "metadata": {},
     "output_type": "execute_result"
    }
   ],
   "source": [
    "lin_model.fit(x_train,y_train)"
   ]
  },
  {
   "cell_type": "code",
   "execution_count": 114,
   "id": "b3e873f8",
   "metadata": {},
   "outputs": [
    {
     "data": {
      "text/plain": [
       "0.8406609744286339"
      ]
     },
     "execution_count": 114,
     "metadata": {},
     "output_type": "execute_result"
    }
   ],
   "source": [
    "lin_model.score(x_train,y_train)"
   ]
  },
  {
   "cell_type": "code",
   "execution_count": 115,
   "id": "17f6016c",
   "metadata": {},
   "outputs": [
    {
     "data": {
      "text/plain": [
       "0.8360130649171579"
      ]
     },
     "execution_count": 115,
     "metadata": {},
     "output_type": "execute_result"
    }
   ],
   "source": [
    "lin_model.score(x_test,y_test)"
   ]
  },
  {
   "cell_type": "code",
   "execution_count": 116,
   "id": "3eaca570",
   "metadata": {},
   "outputs": [
    {
     "name": "stdout",
     "output_type": "stream",
     "text": [
      "Coefficient of the linear model(without outliers) for each variables:- \n",
      "\n",
      "                Coefficient Values\n",
      "Id                        -2.4369\n",
      "MSSubClass              -117.5157\n",
      "LotFrontage             -255.0235\n",
      "LotArea                    0.4075\n",
      "OverallQual            11085.1497\n",
      "...                           ...\n",
      "GarageQual              -231.1077\n",
      "GarageCond              2301.5198\n",
      "PavedDrive              1520.9428\n",
      "SaleType                -827.1437\n",
      "SaleCondition           3247.1715\n",
      "\n",
      "[75 rows x 1 columns]\n"
     ]
    }
   ],
   "source": [
    "a=pd.DataFrame(data=lin_model.coef_,index=X_train.columns,columns=['Coefficient Values'])\n",
    "\n",
    "print('Coefficient of the linear model(without outliers) for each variables:- \\n\\n',a.round(4))"
   ]
  },
  {
   "cell_type": "code",
   "execution_count": 117,
   "id": "78aef438",
   "metadata": {},
   "outputs": [
    {
     "name": "stdout",
     "output_type": "stream",
     "text": [
      "Intercept/constant of linear model (without outliers) =  2338932.9974112553 \n",
      "\n"
     ]
    }
   ],
   "source": [
    "print('Intercept/constant of linear model (without outliers) = ',lin_model.intercept_,'\\n')"
   ]
  },
  {
   "cell_type": "code",
   "execution_count": 98,
   "id": "cf9dccdd",
   "metadata": {},
   "outputs": [
    {
     "data": {
      "text/plain": [
       "(1022,)"
      ]
     },
     "execution_count": 98,
     "metadata": {},
     "output_type": "execute_result"
    }
   ],
   "source": [
    "y_train_pred.shape"
   ]
  },
  {
   "cell_type": "code",
   "execution_count": 97,
   "id": "465509a8",
   "metadata": {},
   "outputs": [
    {
     "data": {
      "text/plain": [
       "(1022, 75)"
      ]
     },
     "execution_count": 97,
     "metadata": {},
     "output_type": "execute_result"
    }
   ],
   "source": [
    "x_train.shape"
   ]
  },
  {
   "cell_type": "raw",
   "id": "f125cbec",
   "metadata": {},
   "source": [
    "Y_train_without_outliers=line_model.predict(X_train)\n",
    "Y_test_without_outliers=line_model.predict(X_test)"
   ]
  },
  {
   "cell_type": "code",
   "execution_count": 118,
   "id": "9c732dc5",
   "metadata": {},
   "outputs": [],
   "source": [
    "y_train_pred=lin_model.predict(x_train)\n",
    "y_test_pred=lin_model.predict(x_test)"
   ]
  },
  {
   "cell_type": "code",
   "execution_count": 119,
   "id": "3bbe3feb",
   "metadata": {},
   "outputs": [],
   "source": [
    "from sklearn.metrics import mean_absolute_error,mean_squared_error"
   ]
  },
  {
   "cell_type": "code",
   "execution_count": 120,
   "id": "988daa2c",
   "metadata": {},
   "outputs": [
    {
     "data": {
      "text/plain": [
       "30787.27412610802"
      ]
     },
     "execution_count": 120,
     "metadata": {},
     "output_type": "execute_result"
    }
   ],
   "source": [
    "rmse1=np.sqrt(mean_squared_error(y_train,y_train_pred))\n",
    "rmse1"
   ]
  },
  {
   "cell_type": "code",
   "execution_count": 121,
   "id": "3d9daa1b",
   "metadata": {},
   "outputs": [
    {
     "data": {
      "text/plain": [
       "34218.655371797475"
      ]
     },
     "execution_count": 121,
     "metadata": {},
     "output_type": "execute_result"
    }
   ],
   "source": [
    "rmse_test_1=np.sqrt(mean_squared_error(y_test,y_test_pred))\n",
    "rmse_test_1"
   ]
  },
  {
   "cell_type": "code",
   "execution_count": 122,
   "id": "4009db6f",
   "metadata": {},
   "outputs": [],
   "source": [
    "dicta={'Actual':y_test,'Pred':y_test_pred}"
   ]
  },
  {
   "cell_type": "code",
   "execution_count": 123,
   "id": "b0873b53",
   "metadata": {},
   "outputs": [],
   "source": [
    "b=pd.DataFrame(dicta)\n",
    "b['Diff']=b.Pred-b.Actual"
   ]
  },
  {
   "cell_type": "code",
   "execution_count": 124,
   "id": "6440de3e",
   "metadata": {},
   "outputs": [
    {
     "data": {
      "text/html": [
       "<div>\n",
       "<style scoped>\n",
       "    .dataframe tbody tr th:only-of-type {\n",
       "        vertical-align: middle;\n",
       "    }\n",
       "\n",
       "    .dataframe tbody tr th {\n",
       "        vertical-align: top;\n",
       "    }\n",
       "\n",
       "    .dataframe thead th {\n",
       "        text-align: right;\n",
       "    }\n",
       "</style>\n",
       "<table border=\"1\" class=\"dataframe\">\n",
       "  <thead>\n",
       "    <tr style=\"text-align: right;\">\n",
       "      <th></th>\n",
       "      <th>Actual</th>\n",
       "      <th>Pred</th>\n",
       "      <th>Diff</th>\n",
       "    </tr>\n",
       "  </thead>\n",
       "  <tbody>\n",
       "    <tr>\n",
       "      <th>258</th>\n",
       "      <td>231500</td>\n",
       "      <td>215303.066256</td>\n",
       "      <td>-16196.933744</td>\n",
       "    </tr>\n",
       "    <tr>\n",
       "      <th>267</th>\n",
       "      <td>179500</td>\n",
       "      <td>185536.710983</td>\n",
       "      <td>6036.710983</td>\n",
       "    </tr>\n",
       "    <tr>\n",
       "      <th>288</th>\n",
       "      <td>122000</td>\n",
       "      <td>95892.751796</td>\n",
       "      <td>-26107.248204</td>\n",
       "    </tr>\n",
       "    <tr>\n",
       "      <th>649</th>\n",
       "      <td>84500</td>\n",
       "      <td>71094.050874</td>\n",
       "      <td>-13405.949126</td>\n",
       "    </tr>\n",
       "    <tr>\n",
       "      <th>1233</th>\n",
       "      <td>142000</td>\n",
       "      <td>133491.333998</td>\n",
       "      <td>-8508.666002</td>\n",
       "    </tr>\n",
       "    <tr>\n",
       "      <th>...</th>\n",
       "      <td>...</td>\n",
       "      <td>...</td>\n",
       "      <td>...</td>\n",
       "    </tr>\n",
       "    <tr>\n",
       "      <th>793</th>\n",
       "      <td>225000</td>\n",
       "      <td>246250.203125</td>\n",
       "      <td>21250.203125</td>\n",
       "    </tr>\n",
       "    <tr>\n",
       "      <th>631</th>\n",
       "      <td>209500</td>\n",
       "      <td>218090.256740</td>\n",
       "      <td>8590.256740</td>\n",
       "    </tr>\n",
       "    <tr>\n",
       "      <th>1172</th>\n",
       "      <td>171900</td>\n",
       "      <td>164160.909837</td>\n",
       "      <td>-7739.090163</td>\n",
       "    </tr>\n",
       "    <tr>\n",
       "      <th>1167</th>\n",
       "      <td>173000</td>\n",
       "      <td>183167.974049</td>\n",
       "      <td>10167.974049</td>\n",
       "    </tr>\n",
       "    <tr>\n",
       "      <th>529</th>\n",
       "      <td>200624</td>\n",
       "      <td>198200.172859</td>\n",
       "      <td>-2423.827141</td>\n",
       "    </tr>\n",
       "  </tbody>\n",
       "</table>\n",
       "<p>438 rows × 3 columns</p>\n",
       "</div>"
      ],
      "text/plain": [
       "      Actual           Pred          Diff\n",
       "258   231500  215303.066256 -16196.933744\n",
       "267   179500  185536.710983   6036.710983\n",
       "288   122000   95892.751796 -26107.248204\n",
       "649    84500   71094.050874 -13405.949126\n",
       "1233  142000  133491.333998  -8508.666002\n",
       "...      ...            ...           ...\n",
       "793   225000  246250.203125  21250.203125\n",
       "631   209500  218090.256740   8590.256740\n",
       "1172  171900  164160.909837  -7739.090163\n",
       "1167  173000  183167.974049  10167.974049\n",
       "529   200624  198200.172859  -2423.827141\n",
       "\n",
       "[438 rows x 3 columns]"
      ]
     },
     "execution_count": 124,
     "metadata": {},
     "output_type": "execute_result"
    }
   ],
   "source": [
    "b"
   ]
  },
  {
   "cell_type": "code",
   "execution_count": 125,
   "id": "edbe94a0",
   "metadata": {},
   "outputs": [
    {
     "data": {
      "text/html": [
       "<style>#sk-container-id-3 {color: black;background-color: white;}#sk-container-id-3 pre{padding: 0;}#sk-container-id-3 div.sk-toggleable {background-color: white;}#sk-container-id-3 label.sk-toggleable__label {cursor: pointer;display: block;width: 100%;margin-bottom: 0;padding: 0.3em;box-sizing: border-box;text-align: center;}#sk-container-id-3 label.sk-toggleable__label-arrow:before {content: \"▸\";float: left;margin-right: 0.25em;color: #696969;}#sk-container-id-3 label.sk-toggleable__label-arrow:hover:before {color: black;}#sk-container-id-3 div.sk-estimator:hover label.sk-toggleable__label-arrow:before {color: black;}#sk-container-id-3 div.sk-toggleable__content {max-height: 0;max-width: 0;overflow: hidden;text-align: left;background-color: #f0f8ff;}#sk-container-id-3 div.sk-toggleable__content pre {margin: 0.2em;color: black;border-radius: 0.25em;background-color: #f0f8ff;}#sk-container-id-3 input.sk-toggleable__control:checked~div.sk-toggleable__content {max-height: 200px;max-width: 100%;overflow: auto;}#sk-container-id-3 input.sk-toggleable__control:checked~label.sk-toggleable__label-arrow:before {content: \"▾\";}#sk-container-id-3 div.sk-estimator input.sk-toggleable__control:checked~label.sk-toggleable__label {background-color: #d4ebff;}#sk-container-id-3 div.sk-label input.sk-toggleable__control:checked~label.sk-toggleable__label {background-color: #d4ebff;}#sk-container-id-3 input.sk-hidden--visually {border: 0;clip: rect(1px 1px 1px 1px);clip: rect(1px, 1px, 1px, 1px);height: 1px;margin: -1px;overflow: hidden;padding: 0;position: absolute;width: 1px;}#sk-container-id-3 div.sk-estimator {font-family: monospace;background-color: #f0f8ff;border: 1px dotted black;border-radius: 0.25em;box-sizing: border-box;margin-bottom: 0.5em;}#sk-container-id-3 div.sk-estimator:hover {background-color: #d4ebff;}#sk-container-id-3 div.sk-parallel-item::after {content: \"\";width: 100%;border-bottom: 1px solid gray;flex-grow: 1;}#sk-container-id-3 div.sk-label:hover label.sk-toggleable__label {background-color: #d4ebff;}#sk-container-id-3 div.sk-serial::before {content: \"\";position: absolute;border-left: 1px solid gray;box-sizing: border-box;top: 0;bottom: 0;left: 50%;z-index: 0;}#sk-container-id-3 div.sk-serial {display: flex;flex-direction: column;align-items: center;background-color: white;padding-right: 0.2em;padding-left: 0.2em;position: relative;}#sk-container-id-3 div.sk-item {position: relative;z-index: 1;}#sk-container-id-3 div.sk-parallel {display: flex;align-items: stretch;justify-content: center;background-color: white;position: relative;}#sk-container-id-3 div.sk-item::before, #sk-container-id-3 div.sk-parallel-item::before {content: \"\";position: absolute;border-left: 1px solid gray;box-sizing: border-box;top: 0;bottom: 0;left: 50%;z-index: -1;}#sk-container-id-3 div.sk-parallel-item {display: flex;flex-direction: column;z-index: 1;position: relative;background-color: white;}#sk-container-id-3 div.sk-parallel-item:first-child::after {align-self: flex-end;width: 50%;}#sk-container-id-3 div.sk-parallel-item:last-child::after {align-self: flex-start;width: 50%;}#sk-container-id-3 div.sk-parallel-item:only-child::after {width: 0;}#sk-container-id-3 div.sk-dashed-wrapped {border: 1px dashed gray;margin: 0 0.4em 0.5em 0.4em;box-sizing: border-box;padding-bottom: 0.4em;background-color: white;}#sk-container-id-3 div.sk-label label {font-family: monospace;font-weight: bold;display: inline-block;line-height: 1.2em;}#sk-container-id-3 div.sk-label-container {text-align: center;}#sk-container-id-3 div.sk-container {/* jupyter's `normalize.less` sets `[hidden] { display: none; }` but bootstrap.min.css set `[hidden] { display: none !important; }` so we also need the `!important` here to be able to override the default hidden behavior on the sphinx rendered scikit-learn.org. See: https://github.com/scikit-learn/scikit-learn/issues/21755 */display: inline-block !important;position: relative;}#sk-container-id-3 div.sk-text-repr-fallback {display: none;}</style><div id=\"sk-container-id-3\" class=\"sk-top-container\"><div class=\"sk-text-repr-fallback\"><pre>HuberRegressor()</pre><b>In a Jupyter environment, please rerun this cell to show the HTML representation or trust the notebook. <br />On GitHub, the HTML representation is unable to render, please try loading this page with nbviewer.org.</b></div><div class=\"sk-container\" hidden><div class=\"sk-item\"><div class=\"sk-estimator sk-toggleable\"><input class=\"sk-toggleable__control sk-hidden--visually\" id=\"sk-estimator-id-3\" type=\"checkbox\" checked><label for=\"sk-estimator-id-3\" class=\"sk-toggleable__label sk-toggleable__label-arrow\">HuberRegressor</label><div class=\"sk-toggleable__content\"><pre>HuberRegressor()</pre></div></div></div></div></div>"
      ],
      "text/plain": [
       "HuberRegressor()"
      ]
     },
     "execution_count": 125,
     "metadata": {},
     "output_type": "execute_result"
    }
   ],
   "source": [
    "huber = HuberRegressor()\n",
    "huber.fit(x_train,y_train)"
   ]
  },
  {
   "cell_type": "code",
   "execution_count": 126,
   "id": "7c4d5c95",
   "metadata": {},
   "outputs": [],
   "source": [
    "y_train_hub=huber.predict(x_train)\n",
    "y_test_hub=huber.predict(x_test)"
   ]
  },
  {
   "cell_type": "code",
   "execution_count": 127,
   "id": "a97d5b15",
   "metadata": {},
   "outputs": [
    {
     "data": {
      "text/plain": [
       "45184.55088034279"
      ]
     },
     "execution_count": 127,
     "metadata": {},
     "output_type": "execute_result"
    }
   ],
   "source": [
    "rmse_hub_train=np.sqrt(mean_squared_error(y_train,y_train_hub))\n",
    "rmse_hub_train"
   ]
  },
  {
   "cell_type": "code",
   "execution_count": 128,
   "id": "9ba768a1",
   "metadata": {},
   "outputs": [
    {
     "data": {
      "text/plain": [
       "40593.52330295675"
      ]
     },
     "execution_count": 128,
     "metadata": {},
     "output_type": "execute_result"
    }
   ],
   "source": [
    "rmse_hub_test=np.sqrt(mean_squared_error(y_test,y_test_hub))\n",
    "rmse_hub_test"
   ]
  },
  {
   "cell_type": "code",
   "execution_count": 129,
   "id": "7df7759d",
   "metadata": {},
   "outputs": [
    {
     "data": {
      "text/html": [
       "<div>\n",
       "<style scoped>\n",
       "    .dataframe tbody tr th:only-of-type {\n",
       "        vertical-align: middle;\n",
       "    }\n",
       "\n",
       "    .dataframe tbody tr th {\n",
       "        vertical-align: top;\n",
       "    }\n",
       "\n",
       "    .dataframe thead th {\n",
       "        text-align: right;\n",
       "    }\n",
       "</style>\n",
       "<table border=\"1\" class=\"dataframe\">\n",
       "  <thead>\n",
       "    <tr style=\"text-align: right;\">\n",
       "      <th></th>\n",
       "      <th>Actaul</th>\n",
       "      <th>Predicted</th>\n",
       "      <th>Diff</th>\n",
       "    </tr>\n",
       "  </thead>\n",
       "  <tbody>\n",
       "    <tr>\n",
       "      <th>258</th>\n",
       "      <td>231500</td>\n",
       "      <td>206601.979624</td>\n",
       "      <td>24898.020376</td>\n",
       "    </tr>\n",
       "    <tr>\n",
       "      <th>267</th>\n",
       "      <td>179500</td>\n",
       "      <td>170092.776523</td>\n",
       "      <td>9407.223477</td>\n",
       "    </tr>\n",
       "    <tr>\n",
       "      <th>288</th>\n",
       "      <td>122000</td>\n",
       "      <td>112145.872013</td>\n",
       "      <td>9854.127987</td>\n",
       "    </tr>\n",
       "    <tr>\n",
       "      <th>649</th>\n",
       "      <td>84500</td>\n",
       "      <td>49083.625093</td>\n",
       "      <td>35416.374907</td>\n",
       "    </tr>\n",
       "    <tr>\n",
       "      <th>1233</th>\n",
       "      <td>142000</td>\n",
       "      <td>175530.112169</td>\n",
       "      <td>-33530.112169</td>\n",
       "    </tr>\n",
       "    <tr>\n",
       "      <th>...</th>\n",
       "      <td>...</td>\n",
       "      <td>...</td>\n",
       "      <td>...</td>\n",
       "    </tr>\n",
       "    <tr>\n",
       "      <th>793</th>\n",
       "      <td>225000</td>\n",
       "      <td>202952.926399</td>\n",
       "      <td>22047.073601</td>\n",
       "    </tr>\n",
       "    <tr>\n",
       "      <th>631</th>\n",
       "      <td>209500</td>\n",
       "      <td>215059.258431</td>\n",
       "      <td>-5559.258431</td>\n",
       "    </tr>\n",
       "    <tr>\n",
       "      <th>1172</th>\n",
       "      <td>171900</td>\n",
       "      <td>154094.055528</td>\n",
       "      <td>17805.944472</td>\n",
       "    </tr>\n",
       "    <tr>\n",
       "      <th>1167</th>\n",
       "      <td>173000</td>\n",
       "      <td>187219.121393</td>\n",
       "      <td>-14219.121393</td>\n",
       "    </tr>\n",
       "    <tr>\n",
       "      <th>529</th>\n",
       "      <td>200624</td>\n",
       "      <td>271493.280521</td>\n",
       "      <td>-70869.280521</td>\n",
       "    </tr>\n",
       "  </tbody>\n",
       "</table>\n",
       "<p>438 rows × 3 columns</p>\n",
       "</div>"
      ],
      "text/plain": [
       "      Actaul      Predicted          Diff\n",
       "258   231500  206601.979624  24898.020376\n",
       "267   179500  170092.776523   9407.223477\n",
       "288   122000  112145.872013   9854.127987\n",
       "649    84500   49083.625093  35416.374907\n",
       "1233  142000  175530.112169 -33530.112169\n",
       "...      ...            ...           ...\n",
       "793   225000  202952.926399  22047.073601\n",
       "631   209500  215059.258431  -5559.258431\n",
       "1172  171900  154094.055528  17805.944472\n",
       "1167  173000  187219.121393 -14219.121393\n",
       "529   200624  271493.280521 -70869.280521\n",
       "\n",
       "[438 rows x 3 columns]"
      ]
     },
     "execution_count": 129,
     "metadata": {},
     "output_type": "execute_result"
    }
   ],
   "source": [
    "hub={'Actaul':y_test,'Predicted':y_test_hub}\n",
    "hub_df=pd.DataFrame(hub)\n",
    "hub_df['Diff']=hub_df.Actaul-hub_df.Predicted\n",
    "hub_df"
   ]
  },
  {
   "cell_type": "code",
   "execution_count": 130,
   "id": "dbe9d006",
   "metadata": {},
   "outputs": [
    {
     "data": {
      "text/html": [
       "<style>#sk-container-id-4 {color: black;background-color: white;}#sk-container-id-4 pre{padding: 0;}#sk-container-id-4 div.sk-toggleable {background-color: white;}#sk-container-id-4 label.sk-toggleable__label {cursor: pointer;display: block;width: 100%;margin-bottom: 0;padding: 0.3em;box-sizing: border-box;text-align: center;}#sk-container-id-4 label.sk-toggleable__label-arrow:before {content: \"▸\";float: left;margin-right: 0.25em;color: #696969;}#sk-container-id-4 label.sk-toggleable__label-arrow:hover:before {color: black;}#sk-container-id-4 div.sk-estimator:hover label.sk-toggleable__label-arrow:before {color: black;}#sk-container-id-4 div.sk-toggleable__content {max-height: 0;max-width: 0;overflow: hidden;text-align: left;background-color: #f0f8ff;}#sk-container-id-4 div.sk-toggleable__content pre {margin: 0.2em;color: black;border-radius: 0.25em;background-color: #f0f8ff;}#sk-container-id-4 input.sk-toggleable__control:checked~div.sk-toggleable__content {max-height: 200px;max-width: 100%;overflow: auto;}#sk-container-id-4 input.sk-toggleable__control:checked~label.sk-toggleable__label-arrow:before {content: \"▾\";}#sk-container-id-4 div.sk-estimator input.sk-toggleable__control:checked~label.sk-toggleable__label {background-color: #d4ebff;}#sk-container-id-4 div.sk-label input.sk-toggleable__control:checked~label.sk-toggleable__label {background-color: #d4ebff;}#sk-container-id-4 input.sk-hidden--visually {border: 0;clip: rect(1px 1px 1px 1px);clip: rect(1px, 1px, 1px, 1px);height: 1px;margin: -1px;overflow: hidden;padding: 0;position: absolute;width: 1px;}#sk-container-id-4 div.sk-estimator {font-family: monospace;background-color: #f0f8ff;border: 1px dotted black;border-radius: 0.25em;box-sizing: border-box;margin-bottom: 0.5em;}#sk-container-id-4 div.sk-estimator:hover {background-color: #d4ebff;}#sk-container-id-4 div.sk-parallel-item::after {content: \"\";width: 100%;border-bottom: 1px solid gray;flex-grow: 1;}#sk-container-id-4 div.sk-label:hover label.sk-toggleable__label {background-color: #d4ebff;}#sk-container-id-4 div.sk-serial::before {content: \"\";position: absolute;border-left: 1px solid gray;box-sizing: border-box;top: 0;bottom: 0;left: 50%;z-index: 0;}#sk-container-id-4 div.sk-serial {display: flex;flex-direction: column;align-items: center;background-color: white;padding-right: 0.2em;padding-left: 0.2em;position: relative;}#sk-container-id-4 div.sk-item {position: relative;z-index: 1;}#sk-container-id-4 div.sk-parallel {display: flex;align-items: stretch;justify-content: center;background-color: white;position: relative;}#sk-container-id-4 div.sk-item::before, #sk-container-id-4 div.sk-parallel-item::before {content: \"\";position: absolute;border-left: 1px solid gray;box-sizing: border-box;top: 0;bottom: 0;left: 50%;z-index: -1;}#sk-container-id-4 div.sk-parallel-item {display: flex;flex-direction: column;z-index: 1;position: relative;background-color: white;}#sk-container-id-4 div.sk-parallel-item:first-child::after {align-self: flex-end;width: 50%;}#sk-container-id-4 div.sk-parallel-item:last-child::after {align-self: flex-start;width: 50%;}#sk-container-id-4 div.sk-parallel-item:only-child::after {width: 0;}#sk-container-id-4 div.sk-dashed-wrapped {border: 1px dashed gray;margin: 0 0.4em 0.5em 0.4em;box-sizing: border-box;padding-bottom: 0.4em;background-color: white;}#sk-container-id-4 div.sk-label label {font-family: monospace;font-weight: bold;display: inline-block;line-height: 1.2em;}#sk-container-id-4 div.sk-label-container {text-align: center;}#sk-container-id-4 div.sk-container {/* jupyter's `normalize.less` sets `[hidden] { display: none; }` but bootstrap.min.css set `[hidden] { display: none !important; }` so we also need the `!important` here to be able to override the default hidden behavior on the sphinx rendered scikit-learn.org. See: https://github.com/scikit-learn/scikit-learn/issues/21755 */display: inline-block !important;position: relative;}#sk-container-id-4 div.sk-text-repr-fallback {display: none;}</style><div id=\"sk-container-id-4\" class=\"sk-top-container\"><div class=\"sk-text-repr-fallback\"><pre>RANSACRegressor()</pre><b>In a Jupyter environment, please rerun this cell to show the HTML representation or trust the notebook. <br />On GitHub, the HTML representation is unable to render, please try loading this page with nbviewer.org.</b></div><div class=\"sk-container\" hidden><div class=\"sk-item\"><div class=\"sk-estimator sk-toggleable\"><input class=\"sk-toggleable__control sk-hidden--visually\" id=\"sk-estimator-id-4\" type=\"checkbox\" checked><label for=\"sk-estimator-id-4\" class=\"sk-toggleable__label sk-toggleable__label-arrow\">RANSACRegressor</label><div class=\"sk-toggleable__content\"><pre>RANSACRegressor()</pre></div></div></div></div></div>"
      ],
      "text/plain": [
       "RANSACRegressor()"
      ]
     },
     "execution_count": 130,
     "metadata": {},
     "output_type": "execute_result"
    }
   ],
   "source": [
    "ransac=RANSACRegressor()\n",
    "ransac.fit(x_train,y_train)"
   ]
  },
  {
   "cell_type": "code",
   "execution_count": 131,
   "id": "4c4d5c48",
   "metadata": {},
   "outputs": [],
   "source": [
    "y_train_ran=ransac.predict(x_train)\n",
    "y_test_ran=ransac.predict(x_test)"
   ]
  },
  {
   "cell_type": "code",
   "execution_count": 132,
   "id": "fb6246d9",
   "metadata": {},
   "outputs": [
    {
     "data": {
      "text/plain": [
       "42148.961577141185"
      ]
     },
     "execution_count": 132,
     "metadata": {},
     "output_type": "execute_result"
    }
   ],
   "source": [
    "rmse_6=np.sqrt(mean_squared_error(y_train,y_train_ran))\n",
    "rmse_6"
   ]
  },
  {
   "cell_type": "code",
   "execution_count": 133,
   "id": "f1d05465",
   "metadata": {},
   "outputs": [
    {
     "data": {
      "text/plain": [
       "37824.49309813221"
      ]
     },
     "execution_count": 133,
     "metadata": {},
     "output_type": "execute_result"
    }
   ],
   "source": [
    "rmse_7=np.sqrt(mean_squared_error(y_test,y_test_ran))\n",
    "rmse_7"
   ]
  },
  {
   "cell_type": "code",
   "execution_count": 134,
   "id": "35211fb7",
   "metadata": {},
   "outputs": [],
   "source": [
    "# RANSAC Regressor is the best model as it ha lowest rmse and model is also not over fitted"
   ]
  },
  {
   "cell_type": "code",
   "execution_count": 166,
   "id": "5ad8f5e1",
   "metadata": {},
   "outputs": [],
   "source": [
    "df_test=pd.read_csv('C:/Users/hp/desktop/prodigy/housing/test.csv')"
   ]
  },
  {
   "cell_type": "code",
   "execution_count": 167,
   "id": "a26e240e",
   "metadata": {},
   "outputs": [],
   "source": [
    "df_test1=df_test.drop(['PoolQC','MiscFeature','Alley','Fence','FireplaceQu'],axis=1)"
   ]
  },
  {
   "cell_type": "code",
   "execution_count": 168,
   "id": "e6aee1f3",
   "metadata": {},
   "outputs": [
    {
     "data": {
      "text/plain": [
       "(1459, 75)"
      ]
     },
     "execution_count": 168,
     "metadata": {},
     "output_type": "execute_result"
    }
   ],
   "source": [
    "df_test1.shape"
   ]
  },
  {
   "cell_type": "code",
   "execution_count": 170,
   "id": "4a2f1f9d",
   "metadata": {},
   "outputs": [
    {
     "data": {
      "text/plain": [
       "Id                 0\n",
       "MSSubClass         0\n",
       "MSZoning           4\n",
       "LotFrontage      227\n",
       "LotArea            0\n",
       "                ... \n",
       "MiscVal            0\n",
       "MoSold             0\n",
       "YrSold             0\n",
       "SaleType           1\n",
       "SaleCondition      0\n",
       "Length: 75, dtype: int64"
      ]
     },
     "execution_count": 170,
     "metadata": {},
     "output_type": "execute_result"
    }
   ],
   "source": [
    "df_test1.isnull().sum()"
   ]
  },
  {
   "cell_type": "code",
   "execution_count": 171,
   "id": "5659044b",
   "metadata": {},
   "outputs": [
    {
     "data": {
      "text/plain": [
       "LotFrontage      0.155586\n",
       "GarageYrBlt      0.053461\n",
       "GarageFinish     0.053461\n",
       "GarageQual       0.053461\n",
       "GarageCond       0.053461\n",
       "                   ...   \n",
       "HeatingQC        0.000000\n",
       "CentralAir       0.000000\n",
       "Electrical       0.000000\n",
       "1stFlrSF         0.000000\n",
       "SaleCondition    0.000000\n",
       "Length: 75, dtype: float64"
      ]
     },
     "execution_count": 171,
     "metadata": {},
     "output_type": "execute_result"
    }
   ],
   "source": [
    "df_test1.isnull().sum().sort_values(ascending=False)/df_test1.index.size"
   ]
  },
  {
   "cell_type": "code",
   "execution_count": 172,
   "id": "bf294bfd",
   "metadata": {},
   "outputs": [],
   "source": [
    "num_test=df_test1.select_dtypes(exclude='object')\n",
    "col_test=df_test1.select_dtypes(include='object')"
   ]
  },
  {
   "cell_type": "code",
   "execution_count": 173,
   "id": "5ed056c6",
   "metadata": {},
   "outputs": [
    {
     "name": "stdout",
     "output_type": "stream",
     "text": [
      "(1460, 38)\n",
      "(1459, 37)\n"
     ]
    }
   ],
   "source": [
    "print(num_col.shape)\n",
    "print(num_test.shape)"
   ]
  },
  {
   "cell_type": "code",
   "execution_count": 174,
   "id": "8d583c5d",
   "metadata": {},
   "outputs": [
    {
     "name": "stdout",
     "output_type": "stream",
     "text": [
      "(1460, 38)\n",
      "(1459, 38)\n"
     ]
    }
   ],
   "source": [
    "print(cat_col.shape)\n",
    "print(col_test.shape)"
   ]
  },
  {
   "cell_type": "code",
   "execution_count": 175,
   "id": "472268f4",
   "metadata": {},
   "outputs": [
    {
     "data": {
      "text/plain": [
       "LotFrontage      227\n",
       "GarageYrBlt       78\n",
       "MasVnrArea        15\n",
       "BsmtHalfBath       2\n",
       "BsmtFullBath       2\n",
       "BsmtFinSF2         1\n",
       "GarageCars         1\n",
       "GarageArea         1\n",
       "TotalBsmtSF        1\n",
       "BsmtUnfSF          1\n",
       "BsmtFinSF1         1\n",
       "KitchenAbvGr       0\n",
       "3SsnPorch          0\n",
       "EnclosedPorch      0\n",
       "OpenPorchSF        0\n",
       "WoodDeckSF         0\n",
       "ScreenPorch        0\n",
       "PoolArea           0\n",
       "MiscVal            0\n",
       "MoSold             0\n",
       "Fireplaces         0\n",
       "TotRmsAbvGrd       0\n",
       "Id                 0\n",
       "BedroomAbvGr       0\n",
       "HalfBath           0\n",
       "FullBath           0\n",
       "MSSubClass         0\n",
       "GrLivArea          0\n",
       "LowQualFinSF       0\n",
       "2ndFlrSF           0\n",
       "1stFlrSF           0\n",
       "YearRemodAdd       0\n",
       "YearBuilt          0\n",
       "OverallCond        0\n",
       "OverallQual        0\n",
       "LotArea            0\n",
       "YrSold             0\n",
       "dtype: int64"
      ]
     },
     "execution_count": 175,
     "metadata": {},
     "output_type": "execute_result"
    }
   ],
   "source": [
    "num_test.isnull().sum().sort_values(ascending=False)"
   ]
  },
  {
   "cell_type": "code",
   "execution_count": 176,
   "id": "ab37f0a0",
   "metadata": {},
   "outputs": [
    {
     "data": {
      "text/plain": [
       "count    1457.000000\n",
       "mean        0.434454\n",
       "std         0.530648\n",
       "min         0.000000\n",
       "25%         0.000000\n",
       "50%         0.000000\n",
       "75%         1.000000\n",
       "max         3.000000\n",
       "Name: BsmtFullBath, dtype: float64"
      ]
     },
     "execution_count": 176,
     "metadata": {},
     "output_type": "execute_result"
    }
   ],
   "source": [
    "num_test.BsmtFullBath.describe()"
   ]
  },
  {
   "cell_type": "code",
   "execution_count": 177,
   "id": "86b7e658",
   "metadata": {},
   "outputs": [],
   "source": [
    "num_test.BsmtHalfBath=num_test.BsmtHalfBath.fillna(num_test.BsmtHalfBath.median())\n",
    "num_test.BsmtFullBath=num_test.BsmtFullBath.fillna(num_test.BsmtFullBath.median())\n",
    "num_test.BsmtFinSF1=num_test.BsmtFinSF1.fillna(num_test.BsmtFinSF1.median())\n",
    "num_test.GarageCars=num_test.GarageCars.fillna(num_test.GarageCars.median())\n",
    "num_test.GarageArea=num_test.GarageArea.fillna(num_test.BsmtFullBath.median())\n",
    "num_test.TotalBsmtSF=num_test.TotalBsmtSF.fillna(num_test.TotalBsmtSF.median())\n",
    "num_test.BsmtUnfSF=num_test.BsmtUnfSF.fillna(num_test.BsmtUnfSF.median())\n",
    "num_test.BsmtFinSF2=num_test.BsmtFinSF2.fillna(num_test.BsmtFinSF2.median())"
   ]
  },
  {
   "cell_type": "code",
   "execution_count": 178,
   "id": "3bcf79f0",
   "metadata": {},
   "outputs": [],
   "source": [
    "num_test.MasVnrArea=num_test.MasVnrArea.fillna(num_test.MasVnrArea.median())\n",
    "num_test.GarageYrBlt=num_test.GarageYrBlt.fillna(num_test.GarageYrBlt.median())\n",
    "num_test.LotFrontage=num_test.LotFrontage.fillna(num_test.LotFrontage.median())"
   ]
  },
  {
   "cell_type": "code",
   "execution_count": 179,
   "id": "d6c07eb6",
   "metadata": {},
   "outputs": [
    {
     "data": {
      "text/plain": [
       "Id               0\n",
       "FullBath         0\n",
       "BedroomAbvGr     0\n",
       "KitchenAbvGr     0\n",
       "TotRmsAbvGrd     0\n",
       "Fireplaces       0\n",
       "GarageYrBlt      0\n",
       "GarageCars       0\n",
       "GarageArea       0\n",
       "WoodDeckSF       0\n",
       "OpenPorchSF      0\n",
       "EnclosedPorch    0\n",
       "3SsnPorch        0\n",
       "ScreenPorch      0\n",
       "PoolArea         0\n",
       "MiscVal          0\n",
       "MoSold           0\n",
       "HalfBath         0\n",
       "BsmtHalfBath     0\n",
       "MSSubClass       0\n",
       "BsmtFullBath     0\n",
       "LotFrontage      0\n",
       "LotArea          0\n",
       "OverallQual      0\n",
       "OverallCond      0\n",
       "YearBuilt        0\n",
       "YearRemodAdd     0\n",
       "MasVnrArea       0\n",
       "BsmtFinSF1       0\n",
       "BsmtFinSF2       0\n",
       "BsmtUnfSF        0\n",
       "TotalBsmtSF      0\n",
       "1stFlrSF         0\n",
       "2ndFlrSF         0\n",
       "LowQualFinSF     0\n",
       "GrLivArea        0\n",
       "YrSold           0\n",
       "dtype: int64"
      ]
     },
     "execution_count": 179,
     "metadata": {},
     "output_type": "execute_result"
    }
   ],
   "source": [
    "num_test.isnull().sum().sort_values(ascending=False)"
   ]
  },
  {
   "cell_type": "code",
   "execution_count": 180,
   "id": "055a4712",
   "metadata": {},
   "outputs": [
    {
     "data": {
      "text/plain": [
       "GarageCond       78\n",
       "GarageQual       78\n",
       "GarageFinish     78\n",
       "GarageType       76\n",
       "BsmtCond         45\n",
       "BsmtExposure     44\n",
       "BsmtQual         44\n",
       "BsmtFinType1     42\n",
       "BsmtFinType2     42\n",
       "MasVnrType       16\n",
       "MSZoning          4\n",
       "Functional        2\n",
       "Utilities         2\n",
       "KitchenQual       1\n",
       "Exterior1st       1\n",
       "Exterior2nd       1\n",
       "SaleType          1\n",
       "CentralAir        0\n",
       "HeatingQC         0\n",
       "Heating           0\n",
       "PavedDrive        0\n",
       "Electrical        0\n",
       "Foundation        0\n",
       "Street            0\n",
       "ExterCond         0\n",
       "ExterQual         0\n",
       "RoofMatl          0\n",
       "RoofStyle         0\n",
       "HouseStyle        0\n",
       "BldgType          0\n",
       "Condition2        0\n",
       "Condition1        0\n",
       "Neighborhood      0\n",
       "LandSlope         0\n",
       "LotConfig         0\n",
       "LandContour       0\n",
       "LotShape          0\n",
       "SaleCondition     0\n",
       "dtype: int64"
      ]
     },
     "execution_count": 180,
     "metadata": {},
     "output_type": "execute_result"
    }
   ],
   "source": [
    "col_test.isnull().sum().sort_values(ascending=False)"
   ]
  },
  {
   "cell_type": "code",
   "execution_count": 181,
   "id": "c0628339",
   "metadata": {},
   "outputs": [
    {
     "data": {
      "text/plain": [
       "'MSZoning'"
      ]
     },
     "execution_count": 181,
     "metadata": {},
     "output_type": "execute_result"
    }
   ],
   "source": [
    "col_test.columns[0]"
   ]
  },
  {
   "cell_type": "code",
   "execution_count": 182,
   "id": "1fc97ba4",
   "metadata": {},
   "outputs": [],
   "source": [
    "for i in range(0,38):\n",
    "    a=col_test.columns[i]\n",
    "    col_test[a]=col_test[a].fillna(col_test[a].mode()[0])"
   ]
  },
  {
   "cell_type": "code",
   "execution_count": 183,
   "id": "18a5b5a0",
   "metadata": {},
   "outputs": [
    {
     "data": {
      "text/plain": [
       "MSZoning         0\n",
       "Electrical       0\n",
       "BsmtCond         0\n",
       "BsmtExposure     0\n",
       "BsmtFinType1     0\n",
       "BsmtFinType2     0\n",
       "Heating          0\n",
       "HeatingQC        0\n",
       "CentralAir       0\n",
       "KitchenQual      0\n",
       "Street           0\n",
       "Functional       0\n",
       "GarageType       0\n",
       "GarageFinish     0\n",
       "GarageQual       0\n",
       "GarageCond       0\n",
       "PavedDrive       0\n",
       "SaleType         0\n",
       "BsmtQual         0\n",
       "Foundation       0\n",
       "ExterCond        0\n",
       "ExterQual        0\n",
       "LotShape         0\n",
       "LandContour      0\n",
       "Utilities        0\n",
       "LotConfig        0\n",
       "LandSlope        0\n",
       "Neighborhood     0\n",
       "Condition1       0\n",
       "Condition2       0\n",
       "BldgType         0\n",
       "HouseStyle       0\n",
       "RoofStyle        0\n",
       "RoofMatl         0\n",
       "Exterior1st      0\n",
       "Exterior2nd      0\n",
       "MasVnrType       0\n",
       "SaleCondition    0\n",
       "dtype: int64"
      ]
     },
     "execution_count": 183,
     "metadata": {},
     "output_type": "execute_result"
    }
   ],
   "source": [
    "col_test.isnull().sum().sort_values(ascending=False)"
   ]
  },
  {
   "cell_type": "code",
   "execution_count": 184,
   "id": "e41e801f",
   "metadata": {},
   "outputs": [],
   "source": [
    "from sklearn.preprocessing import LabelEncoder\n",
    "\n",
    "col_test1=col_test.copy()\n",
    "\n",
    "encoder=LabelEncoder()\n",
    "\n",
    "for i in col_test1.columns:\n",
    "    col_test1[i]=encoder.fit_transform(col_test1[i])"
   ]
  },
  {
   "cell_type": "code",
   "execution_count": 186,
   "id": "2ed6f8d5",
   "metadata": {},
   "outputs": [],
   "source": [
    "df_test2=pd.concat([num_test,col_test1],axis=1)"
   ]
  },
  {
   "cell_type": "code",
   "execution_count": 187,
   "id": "8c1d25e7",
   "metadata": {},
   "outputs": [
    {
     "name": "stdout",
     "output_type": "stream",
     "text": [
      "<class 'pandas.core.frame.DataFrame'>\n",
      "RangeIndex: 1459 entries, 0 to 1458\n",
      "Data columns (total 75 columns):\n",
      " #   Column         Non-Null Count  Dtype  \n",
      "---  ------         --------------  -----  \n",
      " 0   Id             1459 non-null   int64  \n",
      " 1   MSSubClass     1459 non-null   int64  \n",
      " 2   LotFrontage    1459 non-null   float64\n",
      " 3   LotArea        1459 non-null   int64  \n",
      " 4   OverallQual    1459 non-null   int64  \n",
      " 5   OverallCond    1459 non-null   int64  \n",
      " 6   YearBuilt      1459 non-null   int64  \n",
      " 7   YearRemodAdd   1459 non-null   int64  \n",
      " 8   MasVnrArea     1459 non-null   float64\n",
      " 9   BsmtFinSF1     1459 non-null   float64\n",
      " 10  BsmtFinSF2     1459 non-null   float64\n",
      " 11  BsmtUnfSF      1459 non-null   float64\n",
      " 12  TotalBsmtSF    1459 non-null   float64\n",
      " 13  1stFlrSF       1459 non-null   int64  \n",
      " 14  2ndFlrSF       1459 non-null   int64  \n",
      " 15  LowQualFinSF   1459 non-null   int64  \n",
      " 16  GrLivArea      1459 non-null   int64  \n",
      " 17  BsmtFullBath   1459 non-null   float64\n",
      " 18  BsmtHalfBath   1459 non-null   float64\n",
      " 19  FullBath       1459 non-null   int64  \n",
      " 20  HalfBath       1459 non-null   int64  \n",
      " 21  BedroomAbvGr   1459 non-null   int64  \n",
      " 22  KitchenAbvGr   1459 non-null   int64  \n",
      " 23  TotRmsAbvGrd   1459 non-null   int64  \n",
      " 24  Fireplaces     1459 non-null   int64  \n",
      " 25  GarageYrBlt    1459 non-null   float64\n",
      " 26  GarageCars     1459 non-null   float64\n",
      " 27  GarageArea     1459 non-null   float64\n",
      " 28  WoodDeckSF     1459 non-null   int64  \n",
      " 29  OpenPorchSF    1459 non-null   int64  \n",
      " 30  EnclosedPorch  1459 non-null   int64  \n",
      " 31  3SsnPorch      1459 non-null   int64  \n",
      " 32  ScreenPorch    1459 non-null   int64  \n",
      " 33  PoolArea       1459 non-null   int64  \n",
      " 34  MiscVal        1459 non-null   int64  \n",
      " 35  MoSold         1459 non-null   int64  \n",
      " 36  YrSold         1459 non-null   int64  \n",
      " 37  MSZoning       1459 non-null   int32  \n",
      " 38  Street         1459 non-null   int32  \n",
      " 39  LotShape       1459 non-null   int32  \n",
      " 40  LandContour    1459 non-null   int32  \n",
      " 41  Utilities      1459 non-null   int32  \n",
      " 42  LotConfig      1459 non-null   int32  \n",
      " 43  LandSlope      1459 non-null   int32  \n",
      " 44  Neighborhood   1459 non-null   int32  \n",
      " 45  Condition1     1459 non-null   int32  \n",
      " 46  Condition2     1459 non-null   int32  \n",
      " 47  BldgType       1459 non-null   int32  \n",
      " 48  HouseStyle     1459 non-null   int32  \n",
      " 49  RoofStyle      1459 non-null   int32  \n",
      " 50  RoofMatl       1459 non-null   int32  \n",
      " 51  Exterior1st    1459 non-null   int32  \n",
      " 52  Exterior2nd    1459 non-null   int32  \n",
      " 53  MasVnrType     1459 non-null   int32  \n",
      " 54  ExterQual      1459 non-null   int32  \n",
      " 55  ExterCond      1459 non-null   int32  \n",
      " 56  Foundation     1459 non-null   int32  \n",
      " 57  BsmtQual       1459 non-null   int32  \n",
      " 58  BsmtCond       1459 non-null   int32  \n",
      " 59  BsmtExposure   1459 non-null   int32  \n",
      " 60  BsmtFinType1   1459 non-null   int32  \n",
      " 61  BsmtFinType2   1459 non-null   int32  \n",
      " 62  Heating        1459 non-null   int32  \n",
      " 63  HeatingQC      1459 non-null   int32  \n",
      " 64  CentralAir     1459 non-null   int32  \n",
      " 65  Electrical     1459 non-null   int32  \n",
      " 66  KitchenQual    1459 non-null   int32  \n",
      " 67  Functional     1459 non-null   int32  \n",
      " 68  GarageType     1459 non-null   int32  \n",
      " 69  GarageFinish   1459 non-null   int32  \n",
      " 70  GarageQual     1459 non-null   int32  \n",
      " 71  GarageCond     1459 non-null   int32  \n",
      " 72  PavedDrive     1459 non-null   int32  \n",
      " 73  SaleType       1459 non-null   int32  \n",
      " 74  SaleCondition  1459 non-null   int32  \n",
      "dtypes: float64(11), int32(38), int64(26)\n",
      "memory usage: 638.4 KB\n"
     ]
    }
   ],
   "source": [
    "df_test2.info()"
   ]
  },
  {
   "cell_type": "code",
   "execution_count": 188,
   "id": "6bfb13af",
   "metadata": {},
   "outputs": [],
   "source": [
    "test_file_ids=df_test2.Id"
   ]
  },
  {
   "cell_type": "code",
   "execution_count": 189,
   "id": "e000513b",
   "metadata": {},
   "outputs": [],
   "source": [
    "final_predictions=ransac.predict(df_test2)\n",
    "submission=pd.DataFrame([test_file_ids,final_predictions]).T\n",
    "submission.rename(columns={'Unnamed 0':'hatype'},inplace=True)\n",
    "submission.to_csv('Houserate.csv',index=False)"
   ]
  },
  {
   "cell_type": "code",
   "execution_count": null,
   "id": "0ee05c62",
   "metadata": {},
   "outputs": [],
   "source": []
  }
 ],
 "metadata": {
  "kernelspec": {
   "display_name": "Python 3 (ipykernel)",
   "language": "python",
   "name": "python3"
  },
  "language_info": {
   "codemirror_mode": {
    "name": "ipython",
    "version": 3
   },
   "file_extension": ".py",
   "mimetype": "text/x-python",
   "name": "python",
   "nbconvert_exporter": "python",
   "pygments_lexer": "ipython3",
   "version": "3.10.9"
  }
 },
 "nbformat": 4,
 "nbformat_minor": 5
}
